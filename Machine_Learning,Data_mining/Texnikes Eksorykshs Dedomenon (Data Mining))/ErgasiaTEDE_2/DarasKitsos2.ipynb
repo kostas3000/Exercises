{
  "cells": [
    {
      "cell_type": "markdown",
      "metadata": {
        "id": "6MFeH7VldvHj"
      },
      "source": [
        "**Πρόβλεψη διάρκειας ταξιδιού**\n",
        "\n",
        "Τεχνικές Εξόρυξης Δεδομένων, Εθνικόν και Καποδιστριακόν Πανεπιστήμιον Αθηνών 2021-22\n",
        "\n",
        "A project of : Γιάννης Δάρας ( ΑΜ: 1115201800040 ) and Κωνσταντίνος Κίτσος (ΑΜ: 1115201900082)"
      ]
    },
    {
      "cell_type": "code",
      "execution_count": 1,
      "metadata": {
        "id": "erwc3iHmdyIf",
        "colab": {
          "base_uri": "https://localhost:8080/",
          "height": 331
        },
        "outputId": "3b98250e-dbb1-4cfc-e088-8969131ebbc4"
      },
      "outputs": [
        {
          "output_type": "error",
          "ename": "MessageError",
          "evalue": "ignored",
          "traceback": [
            "\u001b[0;31m---------------------------------------------------------------------------\u001b[0m",
            "\u001b[0;31mMessageError\u001b[0m                              Traceback (most recent call last)",
            "\u001b[0;32m<ipython-input-1-d5df0069828e>\u001b[0m in \u001b[0;36m<cell line: 2>\u001b[0;34m()\u001b[0m\n\u001b[1;32m      1\u001b[0m \u001b[0;32mfrom\u001b[0m \u001b[0mgoogle\u001b[0m\u001b[0;34m.\u001b[0m\u001b[0mcolab\u001b[0m \u001b[0;32mimport\u001b[0m \u001b[0mdrive\u001b[0m\u001b[0;34m\u001b[0m\u001b[0;34m\u001b[0m\u001b[0m\n\u001b[0;32m----> 2\u001b[0;31m \u001b[0mdrive\u001b[0m\u001b[0;34m.\u001b[0m\u001b[0mmount\u001b[0m\u001b[0;34m(\u001b[0m\u001b[0;34m'/content/drive'\u001b[0m\u001b[0;34m)\u001b[0m\u001b[0;34m\u001b[0m\u001b[0;34m\u001b[0m\u001b[0m\n\u001b[0m",
            "\u001b[0;32m/usr/local/lib/python3.10/dist-packages/google/colab/drive.py\u001b[0m in \u001b[0;36mmount\u001b[0;34m(mountpoint, force_remount, timeout_ms, readonly)\u001b[0m\n\u001b[1;32m    101\u001b[0m \u001b[0;32mdef\u001b[0m \u001b[0mmount\u001b[0m\u001b[0;34m(\u001b[0m\u001b[0mmountpoint\u001b[0m\u001b[0;34m,\u001b[0m \u001b[0mforce_remount\u001b[0m\u001b[0;34m=\u001b[0m\u001b[0;32mFalse\u001b[0m\u001b[0;34m,\u001b[0m \u001b[0mtimeout_ms\u001b[0m\u001b[0;34m=\u001b[0m\u001b[0;36m120000\u001b[0m\u001b[0;34m,\u001b[0m \u001b[0mreadonly\u001b[0m\u001b[0;34m=\u001b[0m\u001b[0;32mFalse\u001b[0m\u001b[0;34m)\u001b[0m\u001b[0;34m:\u001b[0m\u001b[0;34m\u001b[0m\u001b[0;34m\u001b[0m\u001b[0m\n\u001b[1;32m    102\u001b[0m   \u001b[0;34m\"\"\"Mount your Google Drive at the specified mountpoint path.\"\"\"\u001b[0m\u001b[0;34m\u001b[0m\u001b[0;34m\u001b[0m\u001b[0m\n\u001b[0;32m--> 103\u001b[0;31m   return _mount(\n\u001b[0m\u001b[1;32m    104\u001b[0m       \u001b[0mmountpoint\u001b[0m\u001b[0;34m,\u001b[0m\u001b[0;34m\u001b[0m\u001b[0;34m\u001b[0m\u001b[0m\n\u001b[1;32m    105\u001b[0m       \u001b[0mforce_remount\u001b[0m\u001b[0;34m=\u001b[0m\u001b[0mforce_remount\u001b[0m\u001b[0;34m,\u001b[0m\u001b[0;34m\u001b[0m\u001b[0;34m\u001b[0m\u001b[0m\n",
            "\u001b[0;32m/usr/local/lib/python3.10/dist-packages/google/colab/drive.py\u001b[0m in \u001b[0;36m_mount\u001b[0;34m(mountpoint, force_remount, timeout_ms, ephemeral, readonly)\u001b[0m\n\u001b[1;32m    130\u001b[0m   )\n\u001b[1;32m    131\u001b[0m   \u001b[0;32mif\u001b[0m \u001b[0mephemeral\u001b[0m\u001b[0;34m:\u001b[0m\u001b[0;34m\u001b[0m\u001b[0;34m\u001b[0m\u001b[0m\n\u001b[0;32m--> 132\u001b[0;31m     _message.blocking_request(\n\u001b[0m\u001b[1;32m    133\u001b[0m         \u001b[0;34m'request_auth'\u001b[0m\u001b[0;34m,\u001b[0m \u001b[0mrequest\u001b[0m\u001b[0;34m=\u001b[0m\u001b[0;34m{\u001b[0m\u001b[0;34m'authType'\u001b[0m\u001b[0;34m:\u001b[0m \u001b[0;34m'dfs_ephemeral'\u001b[0m\u001b[0;34m}\u001b[0m\u001b[0;34m,\u001b[0m \u001b[0mtimeout_sec\u001b[0m\u001b[0;34m=\u001b[0m\u001b[0;32mNone\u001b[0m\u001b[0;34m\u001b[0m\u001b[0;34m\u001b[0m\u001b[0m\n\u001b[1;32m    134\u001b[0m     )\n",
            "\u001b[0;32m/usr/local/lib/python3.10/dist-packages/google/colab/_message.py\u001b[0m in \u001b[0;36mblocking_request\u001b[0;34m(request_type, request, timeout_sec, parent)\u001b[0m\n\u001b[1;32m    174\u001b[0m       \u001b[0mrequest_type\u001b[0m\u001b[0;34m,\u001b[0m \u001b[0mrequest\u001b[0m\u001b[0;34m,\u001b[0m \u001b[0mparent\u001b[0m\u001b[0;34m=\u001b[0m\u001b[0mparent\u001b[0m\u001b[0;34m,\u001b[0m \u001b[0mexpect_reply\u001b[0m\u001b[0;34m=\u001b[0m\u001b[0;32mTrue\u001b[0m\u001b[0;34m\u001b[0m\u001b[0;34m\u001b[0m\u001b[0m\n\u001b[1;32m    175\u001b[0m   )\n\u001b[0;32m--> 176\u001b[0;31m   \u001b[0;32mreturn\u001b[0m \u001b[0mread_reply_from_input\u001b[0m\u001b[0;34m(\u001b[0m\u001b[0mrequest_id\u001b[0m\u001b[0;34m,\u001b[0m \u001b[0mtimeout_sec\u001b[0m\u001b[0;34m)\u001b[0m\u001b[0;34m\u001b[0m\u001b[0;34m\u001b[0m\u001b[0m\n\u001b[0m",
            "\u001b[0;32m/usr/local/lib/python3.10/dist-packages/google/colab/_message.py\u001b[0m in \u001b[0;36mread_reply_from_input\u001b[0;34m(message_id, timeout_sec)\u001b[0m\n\u001b[1;32m    101\u001b[0m     ):\n\u001b[1;32m    102\u001b[0m       \u001b[0;32mif\u001b[0m \u001b[0;34m'error'\u001b[0m \u001b[0;32min\u001b[0m \u001b[0mreply\u001b[0m\u001b[0;34m:\u001b[0m\u001b[0;34m\u001b[0m\u001b[0;34m\u001b[0m\u001b[0m\n\u001b[0;32m--> 103\u001b[0;31m         \u001b[0;32mraise\u001b[0m \u001b[0mMessageError\u001b[0m\u001b[0;34m(\u001b[0m\u001b[0mreply\u001b[0m\u001b[0;34m[\u001b[0m\u001b[0;34m'error'\u001b[0m\u001b[0;34m]\u001b[0m\u001b[0;34m)\u001b[0m\u001b[0;34m\u001b[0m\u001b[0;34m\u001b[0m\u001b[0m\n\u001b[0m\u001b[1;32m    104\u001b[0m       \u001b[0;32mreturn\u001b[0m \u001b[0mreply\u001b[0m\u001b[0;34m.\u001b[0m\u001b[0mget\u001b[0m\u001b[0;34m(\u001b[0m\u001b[0;34m'data'\u001b[0m\u001b[0;34m,\u001b[0m \u001b[0;32mNone\u001b[0m\u001b[0;34m)\u001b[0m\u001b[0;34m\u001b[0m\u001b[0;34m\u001b[0m\u001b[0m\n\u001b[1;32m    105\u001b[0m \u001b[0;34m\u001b[0m\u001b[0m\n",
            "\u001b[0;31mMessageError\u001b[0m: Error: credential propagation was unsuccessful"
          ]
        }
      ],
      "source": [
        "from google.colab import drive\n",
        "drive.mount('/content/drive')"
      ]
    },
    {
      "cell_type": "code",
      "execution_count": null,
      "metadata": {
        "id": "4CVamg4HfAMa",
        "colab": {
          "base_uri": "https://localhost:8080/",
          "height": 575
        },
        "outputId": "1c708e9c-8979-4674-ad9d-c2654fd4c1a3"
      },
      "outputs": [
        {
          "output_type": "stream",
          "name": "stdout",
          "text": [
            "          id  vendor_id      pickup_datetime     dropoff_datetime  \\\n",
            "0  id2575240          2  2016-04-09 08:41:59  2016-04-09 08:48:11   \n",
            "1  id3828278          2  2016-04-07 11:12:45  2016-04-07 11:24:24   \n",
            "2  id1483137          2  2016-04-15 19:53:35  2016-04-15 20:04:49   \n",
            "3  id0416660          2  2016-04-21 00:47:17  2016-04-21 00:53:41   \n",
            "4  id2363476          1  2016-01-26 18:34:23  2016-01-26 19:09:14   \n",
            "\n",
            "   passenger_count  pickup_longitude  pickup_latitude  dropoff_longitude  \\\n",
            "0                1        -73.976501        40.788368         -73.957657   \n",
            "1                1        -73.992310        40.769211         -73.990662   \n",
            "2                1        -73.994713        40.746391         -73.969742   \n",
            "3                1        -73.988358        40.718460         -73.951538   \n",
            "4                1        -73.992332        40.743576         -73.979309   \n",
            "\n",
            "   dropoff_latitude store_and_fwd_flag  trip_duration  \n",
            "0         40.782452                  N            372  \n",
            "1         40.758137                  N            699  \n",
            "2         40.758484                  N            674  \n",
            "3         40.713840                  N            384  \n",
            "4         40.678200                  N           2091  \n"
          ]
        },
        {
          "output_type": "execute_result",
          "data": {
            "text/plain": [
              "          id  trip_duration\n",
              "0  id3206885            124\n",
              "1  id2931797           1278\n",
              "2  id0759548            820\n",
              "3  id1998257            981\n",
              "4  id2645175            797"
            ],
            "text/html": [
              "\n",
              "  <div id=\"df-dc7ef56f-f264-4ee1-a2fc-5251c44f3811\">\n",
              "    <div class=\"colab-df-container\">\n",
              "      <div>\n",
              "<style scoped>\n",
              "    .dataframe tbody tr th:only-of-type {\n",
              "        vertical-align: middle;\n",
              "    }\n",
              "\n",
              "    .dataframe tbody tr th {\n",
              "        vertical-align: top;\n",
              "    }\n",
              "\n",
              "    .dataframe thead th {\n",
              "        text-align: right;\n",
              "    }\n",
              "</style>\n",
              "<table border=\"1\" class=\"dataframe\">\n",
              "  <thead>\n",
              "    <tr style=\"text-align: right;\">\n",
              "      <th></th>\n",
              "      <th>id</th>\n",
              "      <th>trip_duration</th>\n",
              "    </tr>\n",
              "  </thead>\n",
              "  <tbody>\n",
              "    <tr>\n",
              "      <th>0</th>\n",
              "      <td>id3206885</td>\n",
              "      <td>124</td>\n",
              "    </tr>\n",
              "    <tr>\n",
              "      <th>1</th>\n",
              "      <td>id2931797</td>\n",
              "      <td>1278</td>\n",
              "    </tr>\n",
              "    <tr>\n",
              "      <th>2</th>\n",
              "      <td>id0759548</td>\n",
              "      <td>820</td>\n",
              "    </tr>\n",
              "    <tr>\n",
              "      <th>3</th>\n",
              "      <td>id1998257</td>\n",
              "      <td>981</td>\n",
              "    </tr>\n",
              "    <tr>\n",
              "      <th>4</th>\n",
              "      <td>id2645175</td>\n",
              "      <td>797</td>\n",
              "    </tr>\n",
              "  </tbody>\n",
              "</table>\n",
              "</div>\n",
              "      <button class=\"colab-df-convert\" onclick=\"convertToInteractive('df-dc7ef56f-f264-4ee1-a2fc-5251c44f3811')\"\n",
              "              title=\"Convert this dataframe to an interactive table.\"\n",
              "              style=\"display:none;\">\n",
              "        \n",
              "  <svg xmlns=\"http://www.w3.org/2000/svg\" height=\"24px\"viewBox=\"0 0 24 24\"\n",
              "       width=\"24px\">\n",
              "    <path d=\"M0 0h24v24H0V0z\" fill=\"none\"/>\n",
              "    <path d=\"M18.56 5.44l.94 2.06.94-2.06 2.06-.94-2.06-.94-.94-2.06-.94 2.06-2.06.94zm-11 1L8.5 8.5l.94-2.06 2.06-.94-2.06-.94L8.5 2.5l-.94 2.06-2.06.94zm10 10l.94 2.06.94-2.06 2.06-.94-2.06-.94-.94-2.06-.94 2.06-2.06.94z\"/><path d=\"M17.41 7.96l-1.37-1.37c-.4-.4-.92-.59-1.43-.59-.52 0-1.04.2-1.43.59L10.3 9.45l-7.72 7.72c-.78.78-.78 2.05 0 2.83L4 21.41c.39.39.9.59 1.41.59.51 0 1.02-.2 1.41-.59l7.78-7.78 2.81-2.81c.8-.78.8-2.07 0-2.86zM5.41 20L4 18.59l7.72-7.72 1.47 1.35L5.41 20z\"/>\n",
              "  </svg>\n",
              "      </button>\n",
              "      \n",
              "  <style>\n",
              "    .colab-df-container {\n",
              "      display:flex;\n",
              "      flex-wrap:wrap;\n",
              "      gap: 12px;\n",
              "    }\n",
              "\n",
              "    .colab-df-convert {\n",
              "      background-color: #E8F0FE;\n",
              "      border: none;\n",
              "      border-radius: 50%;\n",
              "      cursor: pointer;\n",
              "      display: none;\n",
              "      fill: #1967D2;\n",
              "      height: 32px;\n",
              "      padding: 0 0 0 0;\n",
              "      width: 32px;\n",
              "    }\n",
              "\n",
              "    .colab-df-convert:hover {\n",
              "      background-color: #E2EBFA;\n",
              "      box-shadow: 0px 1px 2px rgba(60, 64, 67, 0.3), 0px 1px 3px 1px rgba(60, 64, 67, 0.15);\n",
              "      fill: #174EA6;\n",
              "    }\n",
              "\n",
              "    [theme=dark] .colab-df-convert {\n",
              "      background-color: #3B4455;\n",
              "      fill: #D2E3FC;\n",
              "    }\n",
              "\n",
              "    [theme=dark] .colab-df-convert:hover {\n",
              "      background-color: #434B5C;\n",
              "      box-shadow: 0px 1px 3px 1px rgba(0, 0, 0, 0.15);\n",
              "      filter: drop-shadow(0px 1px 2px rgba(0, 0, 0, 0.3));\n",
              "      fill: #FFFFFF;\n",
              "    }\n",
              "  </style>\n",
              "\n",
              "      <script>\n",
              "        const buttonEl =\n",
              "          document.querySelector('#df-dc7ef56f-f264-4ee1-a2fc-5251c44f3811 button.colab-df-convert');\n",
              "        buttonEl.style.display =\n",
              "          google.colab.kernel.accessAllowed ? 'block' : 'none';\n",
              "\n",
              "        async function convertToInteractive(key) {\n",
              "          const element = document.querySelector('#df-dc7ef56f-f264-4ee1-a2fc-5251c44f3811');\n",
              "          const dataTable =\n",
              "            await google.colab.kernel.invokeFunction('convertToInteractive',\n",
              "                                                     [key], {});\n",
              "          if (!dataTable) return;\n",
              "\n",
              "          const docLinkHtml = 'Like what you see? Visit the ' +\n",
              "            '<a target=\"_blank\" href=https://colab.research.google.com/notebooks/data_table.ipynb>data table notebook</a>'\n",
              "            + ' to learn more about interactive tables.';\n",
              "          element.innerHTML = '';\n",
              "          dataTable['output_type'] = 'display_data';\n",
              "          await google.colab.output.renderOutput(dataTable, element);\n",
              "          const docLink = document.createElement('div');\n",
              "          docLink.innerHTML = docLinkHtml;\n",
              "          element.appendChild(docLink);\n",
              "        }\n",
              "      </script>\n",
              "    </div>\n",
              "  </div>\n",
              "  "
            ]
          },
          "metadata": {},
          "execution_count": 2
        }
      ],
      "source": [
        "import pandas as pd\n",
        "import sys\n",
        "\n",
        "'../content/drive/MyDrive/TEDE2/test.csv'\n",
        "df_train=pd.read_csv('../content/drive/MyDrive/TEDE2/train.csv')\n",
        "df_test=pd.read_csv('../content/drive/MyDrive/TEDE2/test.csv')\n",
        "df_target=pd.read_csv('../content/drive/MyDrive/TEDE2/target.csv')\n",
        "print(df_train.head(5))\n",
        "df_target.head(5)\n"
      ]
    },
    {
      "cell_type": "markdown",
      "source": [
        "**1.1**"
      ],
      "metadata": {
        "id": "GelSddafaf9Y"
      }
    },
    {
      "cell_type": "code",
      "execution_count": null,
      "metadata": {
        "id": "JDnZcmHakhgq",
        "colab": {
          "base_uri": "https://localhost:8080/"
        },
        "outputId": "b1204e51-f787-4e36-9667-c126c093ab0f"
      },
      "outputs": [
        {
          "output_type": "stream",
          "name": "stdout",
          "text": [
            "          vendor_id  passenger_count  pickup_longitude  pickup_latitude  \\\n",
            "count  1.166915e+06     1.166915e+06      1.166915e+06     1.166915e+06   \n",
            "mean   1.534915e+00     1.665292e+00     -7.397346e+01     4.075089e+01   \n",
            "std    4.987797e-01     1.314746e+00      6.231408e-02     3.173031e-02   \n",
            "min    1.000000e+00     0.000000e+00     -1.219332e+02     3.435970e+01   \n",
            "25%    1.000000e+00     1.000000e+00     -7.399186e+01     4.073731e+01   \n",
            "50%    2.000000e+00     1.000000e+00     -7.398175e+01     4.075407e+01   \n",
            "75%    2.000000e+00     2.000000e+00     -7.396733e+01     4.076834e+01   \n",
            "max    2.000000e+00     9.000000e+00     -6.133553e+01     4.437194e+01   \n",
            "\n",
            "       dropoff_longitude  dropoff_latitude  trip_duration  \n",
            "count       1.166915e+06      1.166915e+06   1.166915e+06  \n",
            "mean       -7.397340e+01      4.075182e+01   9.584392e+02  \n",
            "std         6.157028e-02      3.645646e-02   5.334345e+03  \n",
            "min        -1.219332e+02      3.218114e+01   1.000000e+00  \n",
            "25%        -7.399133e+01      4.073591e+01   3.970000e+02  \n",
            "50%        -7.397977e+01      4.075453e+01   6.630000e+02  \n",
            "75%        -7.396303e+01      4.076981e+01   1.075000e+03  \n",
            "max        -6.133553e+01      4.392103e+01   3.526282e+06  \n"
          ]
        }
      ],
      "source": [
        "# PRINT STATS ,  MEAN \n",
        "\n",
        "\n",
        "print(df_train.describe())"
      ]
    },
    {
      "cell_type": "code",
      "execution_count": null,
      "metadata": {
        "id": "sKjipZNLgEij",
        "colab": {
          "base_uri": "https://localhost:8080/"
        },
        "outputId": "0c9d9f13-405c-4c03-8fef-3ac5b3d065e1"
      },
      "outputs": [
        {
          "output_type": "stream",
          "name": "stdout",
          "text": [
            "StandardScaler()\n",
            "[  1.53491471 958.43923593]\n"
          ]
        }
      ],
      "source": [
        "from sklearn.preprocessing import StandardScaler\n",
        "\n",
        "scaler = StandardScaler()\n",
        "\n",
        "df_trip=df_train[['vendor_id','trip_duration']] # scaler needs 2d array\n",
        "print(scaler.fit(df_trip))\n",
        "print(scaler.mean_)\n",
        "\n",
        "df_trip=scaler.transform(df_trip)  \n",
        "trip_stand=df_trip[:,1]# standarized trip_duration"
      ]
    },
    {
      "cell_type": "code",
      "execution_count": null,
      "metadata": {
        "id": "uWeocpDs5d0W",
        "colab": {
          "base_uri": "https://localhost:8080/",
          "height": 357
        },
        "outputId": "7edcb005-caaf-44ce-e565-10ad8412021e"
      },
      "outputs": [
        {
          "output_type": "execute_result",
          "data": {
            "text/plain": [
              "          id  vendor_id      pickup_datetime     dropoff_datetime  \\\n",
              "0  id2575240          2  2016-04-09 08:41:59  2016-04-09 08:48:11   \n",
              "1  id3828278          2  2016-04-07 11:12:45  2016-04-07 11:24:24   \n",
              "2  id1483137          2  2016-04-15 19:53:35  2016-04-15 20:04:49   \n",
              "3  id0416660          2  2016-04-21 00:47:17  2016-04-21 00:53:41   \n",
              "4  id2363476          1  2016-01-26 18:34:23  2016-01-26 19:09:14   \n",
              "\n",
              "   passenger_count  pickup_longitude  pickup_latitude  dropoff_longitude  \\\n",
              "0                1        -73.976501        40.788368         -73.957657   \n",
              "1                1        -73.992310        40.769211         -73.990662   \n",
              "2                1        -73.994713        40.746391         -73.969742   \n",
              "3                1        -73.988358        40.718460         -73.951538   \n",
              "4                1        -73.992332        40.743576         -73.979309   \n",
              "\n",
              "   dropoff_latitude store_and_fwd_flag  trip_duration  t_duration_standar  \n",
              "0         40.782452                  N            372           -0.109937  \n",
              "1         40.758137                  N            699           -0.048636  \n",
              "2         40.758484                  N            674           -0.053322  \n",
              "3         40.713840                  N            384           -0.107687  \n",
              "4         40.678200                  N           2091            0.212315  "
            ],
            "text/html": [
              "\n",
              "  <div id=\"df-d42db5d8-d2dd-4642-b5de-cb707deced0d\">\n",
              "    <div class=\"colab-df-container\">\n",
              "      <div>\n",
              "<style scoped>\n",
              "    .dataframe tbody tr th:only-of-type {\n",
              "        vertical-align: middle;\n",
              "    }\n",
              "\n",
              "    .dataframe tbody tr th {\n",
              "        vertical-align: top;\n",
              "    }\n",
              "\n",
              "    .dataframe thead th {\n",
              "        text-align: right;\n",
              "    }\n",
              "</style>\n",
              "<table border=\"1\" class=\"dataframe\">\n",
              "  <thead>\n",
              "    <tr style=\"text-align: right;\">\n",
              "      <th></th>\n",
              "      <th>id</th>\n",
              "      <th>vendor_id</th>\n",
              "      <th>pickup_datetime</th>\n",
              "      <th>dropoff_datetime</th>\n",
              "      <th>passenger_count</th>\n",
              "      <th>pickup_longitude</th>\n",
              "      <th>pickup_latitude</th>\n",
              "      <th>dropoff_longitude</th>\n",
              "      <th>dropoff_latitude</th>\n",
              "      <th>store_and_fwd_flag</th>\n",
              "      <th>trip_duration</th>\n",
              "      <th>t_duration_standar</th>\n",
              "    </tr>\n",
              "  </thead>\n",
              "  <tbody>\n",
              "    <tr>\n",
              "      <th>0</th>\n",
              "      <td>id2575240</td>\n",
              "      <td>2</td>\n",
              "      <td>2016-04-09 08:41:59</td>\n",
              "      <td>2016-04-09 08:48:11</td>\n",
              "      <td>1</td>\n",
              "      <td>-73.976501</td>\n",
              "      <td>40.788368</td>\n",
              "      <td>-73.957657</td>\n",
              "      <td>40.782452</td>\n",
              "      <td>N</td>\n",
              "      <td>372</td>\n",
              "      <td>-0.109937</td>\n",
              "    </tr>\n",
              "    <tr>\n",
              "      <th>1</th>\n",
              "      <td>id3828278</td>\n",
              "      <td>2</td>\n",
              "      <td>2016-04-07 11:12:45</td>\n",
              "      <td>2016-04-07 11:24:24</td>\n",
              "      <td>1</td>\n",
              "      <td>-73.992310</td>\n",
              "      <td>40.769211</td>\n",
              "      <td>-73.990662</td>\n",
              "      <td>40.758137</td>\n",
              "      <td>N</td>\n",
              "      <td>699</td>\n",
              "      <td>-0.048636</td>\n",
              "    </tr>\n",
              "    <tr>\n",
              "      <th>2</th>\n",
              "      <td>id1483137</td>\n",
              "      <td>2</td>\n",
              "      <td>2016-04-15 19:53:35</td>\n",
              "      <td>2016-04-15 20:04:49</td>\n",
              "      <td>1</td>\n",
              "      <td>-73.994713</td>\n",
              "      <td>40.746391</td>\n",
              "      <td>-73.969742</td>\n",
              "      <td>40.758484</td>\n",
              "      <td>N</td>\n",
              "      <td>674</td>\n",
              "      <td>-0.053322</td>\n",
              "    </tr>\n",
              "    <tr>\n",
              "      <th>3</th>\n",
              "      <td>id0416660</td>\n",
              "      <td>2</td>\n",
              "      <td>2016-04-21 00:47:17</td>\n",
              "      <td>2016-04-21 00:53:41</td>\n",
              "      <td>1</td>\n",
              "      <td>-73.988358</td>\n",
              "      <td>40.718460</td>\n",
              "      <td>-73.951538</td>\n",
              "      <td>40.713840</td>\n",
              "      <td>N</td>\n",
              "      <td>384</td>\n",
              "      <td>-0.107687</td>\n",
              "    </tr>\n",
              "    <tr>\n",
              "      <th>4</th>\n",
              "      <td>id2363476</td>\n",
              "      <td>1</td>\n",
              "      <td>2016-01-26 18:34:23</td>\n",
              "      <td>2016-01-26 19:09:14</td>\n",
              "      <td>1</td>\n",
              "      <td>-73.992332</td>\n",
              "      <td>40.743576</td>\n",
              "      <td>-73.979309</td>\n",
              "      <td>40.678200</td>\n",
              "      <td>N</td>\n",
              "      <td>2091</td>\n",
              "      <td>0.212315</td>\n",
              "    </tr>\n",
              "  </tbody>\n",
              "</table>\n",
              "</div>\n",
              "      <button class=\"colab-df-convert\" onclick=\"convertToInteractive('df-d42db5d8-d2dd-4642-b5de-cb707deced0d')\"\n",
              "              title=\"Convert this dataframe to an interactive table.\"\n",
              "              style=\"display:none;\">\n",
              "        \n",
              "  <svg xmlns=\"http://www.w3.org/2000/svg\" height=\"24px\"viewBox=\"0 0 24 24\"\n",
              "       width=\"24px\">\n",
              "    <path d=\"M0 0h24v24H0V0z\" fill=\"none\"/>\n",
              "    <path d=\"M18.56 5.44l.94 2.06.94-2.06 2.06-.94-2.06-.94-.94-2.06-.94 2.06-2.06.94zm-11 1L8.5 8.5l.94-2.06 2.06-.94-2.06-.94L8.5 2.5l-.94 2.06-2.06.94zm10 10l.94 2.06.94-2.06 2.06-.94-2.06-.94-.94-2.06-.94 2.06-2.06.94z\"/><path d=\"M17.41 7.96l-1.37-1.37c-.4-.4-.92-.59-1.43-.59-.52 0-1.04.2-1.43.59L10.3 9.45l-7.72 7.72c-.78.78-.78 2.05 0 2.83L4 21.41c.39.39.9.59 1.41.59.51 0 1.02-.2 1.41-.59l7.78-7.78 2.81-2.81c.8-.78.8-2.07 0-2.86zM5.41 20L4 18.59l7.72-7.72 1.47 1.35L5.41 20z\"/>\n",
              "  </svg>\n",
              "      </button>\n",
              "      \n",
              "  <style>\n",
              "    .colab-df-container {\n",
              "      display:flex;\n",
              "      flex-wrap:wrap;\n",
              "      gap: 12px;\n",
              "    }\n",
              "\n",
              "    .colab-df-convert {\n",
              "      background-color: #E8F0FE;\n",
              "      border: none;\n",
              "      border-radius: 50%;\n",
              "      cursor: pointer;\n",
              "      display: none;\n",
              "      fill: #1967D2;\n",
              "      height: 32px;\n",
              "      padding: 0 0 0 0;\n",
              "      width: 32px;\n",
              "    }\n",
              "\n",
              "    .colab-df-convert:hover {\n",
              "      background-color: #E2EBFA;\n",
              "      box-shadow: 0px 1px 2px rgba(60, 64, 67, 0.3), 0px 1px 3px 1px rgba(60, 64, 67, 0.15);\n",
              "      fill: #174EA6;\n",
              "    }\n",
              "\n",
              "    [theme=dark] .colab-df-convert {\n",
              "      background-color: #3B4455;\n",
              "      fill: #D2E3FC;\n",
              "    }\n",
              "\n",
              "    [theme=dark] .colab-df-convert:hover {\n",
              "      background-color: #434B5C;\n",
              "      box-shadow: 0px 1px 3px 1px rgba(0, 0, 0, 0.15);\n",
              "      filter: drop-shadow(0px 1px 2px rgba(0, 0, 0, 0.3));\n",
              "      fill: #FFFFFF;\n",
              "    }\n",
              "  </style>\n",
              "\n",
              "      <script>\n",
              "        const buttonEl =\n",
              "          document.querySelector('#df-d42db5d8-d2dd-4642-b5de-cb707deced0d button.colab-df-convert');\n",
              "        buttonEl.style.display =\n",
              "          google.colab.kernel.accessAllowed ? 'block' : 'none';\n",
              "\n",
              "        async function convertToInteractive(key) {\n",
              "          const element = document.querySelector('#df-d42db5d8-d2dd-4642-b5de-cb707deced0d');\n",
              "          const dataTable =\n",
              "            await google.colab.kernel.invokeFunction('convertToInteractive',\n",
              "                                                     [key], {});\n",
              "          if (!dataTable) return;\n",
              "\n",
              "          const docLinkHtml = 'Like what you see? Visit the ' +\n",
              "            '<a target=\"_blank\" href=https://colab.research.google.com/notebooks/data_table.ipynb>data table notebook</a>'\n",
              "            + ' to learn more about interactive tables.';\n",
              "          element.innerHTML = '';\n",
              "          dataTable['output_type'] = 'display_data';\n",
              "          await google.colab.output.renderOutput(dataTable, element);\n",
              "          const docLink = document.createElement('div');\n",
              "          docLink.innerHTML = docLinkHtml;\n",
              "          element.appendChild(docLink);\n",
              "        }\n",
              "      </script>\n",
              "    </div>\n",
              "  </div>\n",
              "  "
            ]
          },
          "metadata": {},
          "execution_count": 5
        }
      ],
      "source": [
        "\n",
        "df_train['t_duration_standar']=trip_stand   \n",
        "\n",
        "df_train.head()"
      ]
    },
    {
      "cell_type": "code",
      "execution_count": null,
      "metadata": {
        "id": "rP6KlCAD5j2I",
        "colab": {
          "base_uri": "https://localhost:8080/"
        },
        "outputId": "daa649a5-32be-44e8-b52b-ac92b224b32f"
      },
      "outputs": [
        {
          "output_type": "stream",
          "name": "stdout",
          "text": [
            "mean 3.79653527246134e-18\n",
            "variance  1.0000000000000002\n",
            "trip-durations(standarised) less than -2.0000000000000004 or more than 2.0000000000000004 will be DELETED\n"
          ]
        }
      ],
      "source": [
        "\n",
        "\n",
        "stand_mean=trip_stand.mean()\n",
        "stand_variance=trip_stand.std(axis=0)\n",
        "print('mean',stand_mean) # as expected this is practically 0\n",
        "print('variance ',stand_variance)  # this is practically 1\n",
        "\n",
        "stand_min=stand_mean-2*stand_variance # !!!!   KANTO stand_min\n",
        "stand_max=stand_mean+2*stand_variance # !!!    stand_max\n",
        "\n",
        "print('trip-durations(standarised) less than %s or more than %s will be DELETED'%(stand_min,stand_max))"
      ]
    },
    {
      "cell_type": "markdown",
      "metadata": {
        "id": "OEu-GKAc94Qg"
      },
      "source": [
        "ΑΦΑΙΡΕΣΗ ΓΡΑΜΜΩΝ ΜΕ ΑΚΡΑΙΕΣ TRIP-DURATION ΤΙΜΕΣ (ΜΕΣΩ ΤΩΝ STANDARIZED ΑΠΟΤΕΛΕΣΜΑΤΩΝ)"
      ]
    },
    {
      "cell_type": "code",
      "execution_count": null,
      "metadata": {
        "id": "UpZzdsjI9wSI",
        "colab": {
          "base_uri": "https://localhost:8080/"
        },
        "outputId": "79ed99ef-f73c-426c-fdd6-cd3041e8c405"
      },
      "outputs": [
        {
          "output_type": "stream",
          "name": "stdout",
          "text": [
            "inititally we have 1166915 rows\n",
            "after deleting too short trips: 1166915\n",
            "after deleting too long trips: 1165250\n"
          ]
        }
      ],
      "source": [
        "print(\"inititally we have %s rows\"%(df_train.shape[0]))\n",
        "\n",
        "#  KANTA DF2 DF1\n",
        "df1 = df_train[df_train['t_duration_standar'] >=stand_min]     # df1 = df_train for excersize 1.1\n",
        "print('after deleting too short trips:',df1.shape[0])\n",
        "df1=df1[df1['t_duration_standar'] <=stand_max]           \n",
        "print('after deleting too long trips:',df1.shape[0])\n",
        "\n",
        "\n",
        "\n"
      ]
    },
    {
      "cell_type": "markdown",
      "source": [
        "**1.2**"
      ],
      "metadata": {
        "id": "-C5LUvXMLs5z"
      }
    },
    {
      "cell_type": "code",
      "execution_count": null,
      "metadata": {
        "id": "W0Lhnjnd-JkM",
        "colab": {
          "base_uri": "https://localhost:8080/"
        },
        "outputId": "4a9d6a91-2496-4edf-bebf-86af54b1c76e"
      },
      "outputs": [
        {
          "output_type": "stream",
          "name": "stdout",
          "text": [
            "inititally we have 1165250 rows\n",
            "after deleting rows with invalid pickup: 1163628\n",
            "after deleting rows with invalid dropoff: 1149733\n"
          ]
        }
      ],
      "source": [
        "print(\"inititally we have %s rows\"%(df1.shape[0]))\n",
        "\n",
        "df2=df1[  (df1['pickup_longitude'] > -74.03) & (df1['pickup_longitude'] < -73.75)  ] # df2 = df_train for excersize 1.2\n",
        "df2=df2[  (df2['pickup_latitude'] > 40.63) & (df2['pickup_latitude'] < 40.85)  ]\n",
        "print('after deleting rows with invalid pickup:',df2.shape[0])\n",
        "\n",
        "df2=df2[ (df2['dropoff_longitude'] >-74.03) & (df2['dropoff_longitude'] < -73.75)  ]\n",
        "df2=df2[  (df2['dropoff_latitude'] > 40.63) & (df2['dropoff_latitude'] < 40.85)  ]\n",
        "print('after deleting rows with invalid dropoff:',df2.shape[0])\n",
        "\n",
        "\n"
      ]
    },
    {
      "cell_type": "markdown",
      "metadata": {
        "id": "FOsm_ZKI-QdQ"
      },
      "source": [
        "**1.3**"
      ]
    },
    {
      "cell_type": "code",
      "execution_count": null,
      "metadata": {
        "id": "wJh-kSTf-MhV",
        "colab": {
          "base_uri": "https://localhost:8080/"
        },
        "outputId": "546ca5f3-9921-4016-d1f8-2e677210a969"
      },
      "outputs": [
        {
          "output_type": "stream",
          "name": "stdout",
          "text": [
            "          id  vendor_id      pickup_datetime     dropoff_datetime  \\\n",
            "0  id2575240          2  2016-04-09 08:41:59  2016-04-09 08:48:11   \n",
            "1  id3828278          2  2016-04-07 11:12:45  2016-04-07 11:24:24   \n",
            "2  id1483137          2  2016-04-15 19:53:35  2016-04-15 20:04:49   \n",
            "3  id0416660          2  2016-04-21 00:47:17  2016-04-21 00:53:41   \n",
            "4  id2363476          1  2016-01-26 18:34:23  2016-01-26 19:09:14   \n",
            "\n",
            "   passenger_count  pickup_longitude  pickup_latitude  dropoff_longitude  \\\n",
            "0                1        -73.976501        40.788368         -73.957657   \n",
            "1                1        -73.992310        40.769211         -73.990662   \n",
            "2                1        -73.994713        40.746391         -73.969742   \n",
            "3                1        -73.988358        40.718460         -73.951538   \n",
            "4                1        -73.992332        40.743576         -73.979309   \n",
            "\n",
            "   dropoff_latitude store_and_fwd_flag  trip_duration  t_duration_standar  \n",
            "0         40.782452                  N            372           -0.109937  \n",
            "1         40.758137                  N            699           -0.048636  \n",
            "2         40.758484                  N            674           -0.053322  \n",
            "3         40.713840                  N            384           -0.107687  \n",
            "4         40.678200                  N           2091            0.212315  \n"
          ]
        }
      ],
      "source": [
        "\n",
        "df_train=df2 # update df_train\n",
        "print(df_train.head(5))\n"
      ]
    },
    {
      "cell_type": "code",
      "execution_count": null,
      "metadata": {
        "id": "huDMoIUVtDja",
        "colab": {
          "base_uri": "https://localhost:8080/",
          "height": 1000
        },
        "outputId": "eca2ddb7-734d-43cb-c83d-f7a72970d8e4"
      },
      "outputs": [
        {
          "output_type": "execute_result",
          "data": {
            "text/plain": [
              "           id  vendor_id     pickup_datetime    dropoff_datetime  \\\n",
              "0   id2575240          2 2016-04-09 08:41:59 2016-04-09 08:48:11   \n",
              "1   id3828278          2 2016-04-07 11:12:45 2016-04-07 11:24:24   \n",
              "2   id1483137          2 2016-04-15 19:53:35 2016-04-15 20:04:49   \n",
              "3   id0416660          2 2016-04-21 00:47:17 2016-04-21 00:53:41   \n",
              "4   id2363476          1 2016-01-26 18:34:23 2016-01-26 19:09:14   \n",
              "5   id2052565          1 2016-02-11 12:32:25 2016-02-11 13:02:52   \n",
              "6   id1889444          2 2016-05-22 21:41:09 2016-05-22 21:45:20   \n",
              "7   id1503795          2 2016-06-09 00:09:15 2016-06-09 00:51:19   \n",
              "8   id0590226          2 2016-02-27 01:21:42 2016-02-27 01:25:11   \n",
              "9   id2577516          1 2016-03-19 18:20:00 2016-03-19 18:24:08   \n",
              "10  id1241937          2 2016-03-19 02:04:18 2016-03-19 02:18:31   \n",
              "11  id3732836          1 2016-01-27 14:14:53 2016-01-27 14:36:09   \n",
              "12  id2289852          1 2016-04-03 07:25:20 2016-04-03 07:59:41   \n",
              "13  id3706243          1 2016-06-11 02:20:00 2016-06-11 02:23:23   \n",
              "14  id1714600          1 2016-06-21 07:30:40 2016-06-21 08:12:20   \n",
              "15  id1347797          2 2016-05-03 12:55:38 2016-05-03 13:36:46   \n",
              "16  id3932702          2 2016-02-26 15:10:39 2016-02-26 15:28:38   \n",
              "17  id1491651          2 2016-05-18 13:47:46 2016-05-18 14:56:42   \n",
              "18  id0597423          1 2016-02-28 22:15:03 2016-02-28 22:27:21   \n",
              "19  id0205024          2 2016-05-20 21:29:09 2016-05-20 21:36:58   \n",
              "20  id1644502          2 2016-02-28 00:03:49 2016-02-28 00:13:15   \n",
              "21  id1017772          1 2016-06-28 13:39:03 2016-06-28 14:08:50   \n",
              "22  id1675737          2 2016-02-02 17:41:49 2016-02-02 17:51:11   \n",
              "23  id1488306          1 2016-02-22 22:57:52 2016-02-22 23:00:56   \n",
              "24  id2162305          1 2016-02-26 23:33:32 2016-02-26 23:43:20   \n",
              "25  id2933793          2 2016-02-05 21:59:02 2016-02-05 22:26:05   \n",
              "26  id3273386          1 2016-06-20 18:18:44 2016-06-20 18:26:07   \n",
              "27  id2213171          2 2016-01-02 10:09:57 2016-01-02 10:28:57   \n",
              "28  id0741436          2 2016-06-07 16:41:26 2016-06-07 16:48:48   \n",
              "29  id1432043          1 2016-03-08 09:28:18 2016-03-08 09:41:54   \n",
              "30  id1127742          1 2016-05-30 05:53:23 2016-05-30 06:09:57   \n",
              "31  id2525150          1 2016-03-08 12:56:58 2016-03-08 13:20:07   \n",
              "32  id0605641          1 2016-02-28 00:29:51 2016-02-28 00:36:48   \n",
              "33  id3330918          2 2016-03-19 09:02:37 2016-03-19 09:07:10   \n",
              "34  id1801347          2 2016-03-11 08:38:12 2016-03-11 08:51:29   \n",
              "35  id0303360          1 2016-06-04 20:11:47 2016-06-04 20:37:41   \n",
              "36  id2307761          2 2016-04-09 02:23:06 2016-04-09 02:40:56   \n",
              "37  id3903935          1 2016-02-24 12:15:00 2016-02-24 12:40:26   \n",
              "38  id2175591          2 2016-04-28 14:01:06 2016-04-28 14:21:33   \n",
              "39  id1741491          2 2016-04-22 08:00:16 2016-04-22 08:38:51   \n",
              "\n",
              "    passenger_count  pickup_longitude  pickup_latitude  dropoff_longitude  \\\n",
              "0                 1        -73.976501        40.788368         -73.957657   \n",
              "1                 1        -73.992310        40.769211         -73.990662   \n",
              "2                 1        -73.994713        40.746391         -73.969742   \n",
              "3                 1        -73.988358        40.718460         -73.951538   \n",
              "4                 1        -73.992332        40.743576         -73.979309   \n",
              "5                 1        -73.994453        40.734901         -73.992668   \n",
              "6                 4        -73.973755        40.751656         -73.963348   \n",
              "7                 6        -73.786140        40.644413         -73.982384   \n",
              "8                 1        -73.993629        40.721088         -73.992264   \n",
              "9                 1        -73.945457        40.778461         -73.953331   \n",
              "10                1        -73.984451        40.767319         -73.971283   \n",
              "11                1        -73.982559        40.742661         -74.004822   \n",
              "12                1        -73.789963        40.643661         -73.956795   \n",
              "13                1        -73.989487        40.726227         -73.990135   \n",
              "14                1        -73.863045        40.769836         -73.973404   \n",
              "15                6        -73.978645        40.753380         -74.006889   \n",
              "16                2        -73.974983        40.789989         -73.999580   \n",
              "17                1        -74.015762        40.712029         -73.974838   \n",
              "18                1        -73.988174        40.749580         -73.946571   \n",
              "19                1        -73.973083        40.762619         -73.981010   \n",
              "20                1        -74.008072        40.740200         -73.991127   \n",
              "21                1        -74.009827        40.708691         -73.989204   \n",
              "22                3        -73.962410        40.779171         -73.969307   \n",
              "23                1        -73.991547        40.749474         -73.991943   \n",
              "24                1        -73.977333        40.742989         -73.992142   \n",
              "25                1        -73.984146        40.734539         -73.987206   \n",
              "26                1        -73.986183        40.734509         -73.985596   \n",
              "27                1        -73.963951        40.774403         -73.872749   \n",
              "28                1        -73.954430        40.800671         -73.941719   \n",
              "29                1        -73.953476        40.767365         -73.984528   \n",
              "30                2        -73.981667        40.732487         -73.950981   \n",
              "31                1        -73.978241        40.744911         -73.870483   \n",
              "32                2        -73.981903        40.768951         -73.994972   \n",
              "33                4        -73.903084        40.745941         -73.922188   \n",
              "34                1        -73.974342        40.736801         -73.986481   \n",
              "35                1        -74.008560        40.714138         -73.942795   \n",
              "36                1        -73.982826        40.730907         -73.925438   \n",
              "37                1        -73.999908        40.737823         -73.984726   \n",
              "38                5        -73.970856        40.761375         -73.985275   \n",
              "39                1        -73.980949        40.733898         -73.965363   \n",
              "\n",
              "    dropoff_latitude store_and_fwd_flag  ...  pickup_month  pickup_hour  \\\n",
              "0          40.782452                  N  ...             4     08:41:59   \n",
              "1          40.758137                  N  ...             4     11:12:45   \n",
              "2          40.758484                  N  ...             4     19:53:35   \n",
              "3          40.713840                  N  ...             4     00:47:17   \n",
              "4          40.678200                  N  ...             1     18:34:23   \n",
              "5          40.754372                  N  ...             2     12:32:25   \n",
              "6          40.764946                  N  ...             5     21:41:09   \n",
              "7          40.769234                  N  ...             6     00:09:15   \n",
              "8          40.725250                  N  ...             2     01:21:42   \n",
              "9          40.775513                  N  ...             3     18:20:00   \n",
              "10         40.786991                  N  ...             3     02:04:18   \n",
              "11         40.712597                  N  ...             1     14:14:53   \n",
              "12         40.708042                  N  ...             4     07:25:20   \n",
              "13         40.723244                  N  ...             6     02:20:00   \n",
              "14         40.757252                  N  ...             6     07:30:40   \n",
              "15         40.713623                  N  ...             5     12:55:38   \n",
              "16         40.761330                  N  ...             2     15:10:39   \n",
              "17         40.735451                  N  ...             5     13:47:46   \n",
              "18         40.779140                  N  ...             2     22:15:03   \n",
              "19         40.779861                  N  ...             5     21:29:09   \n",
              "20         40.734982                  N  ...             2     00:03:49   \n",
              "21         40.762024                  N  ...             6     13:39:03   \n",
              "22         40.798931                  N  ...             2     17:41:49   \n",
              "23         40.743626                  N  ...             2     22:57:52   \n",
              "24         40.748871                  N  ...             2     23:33:32   \n",
              "25         40.714809                  N  ...             2     21:59:02   \n",
              "26         40.723282                  N  ...             6     18:18:44   \n",
              "27         40.774323                  N  ...             1     10:09:57   \n",
              "28         40.804298                  N  ...             6     16:41:26   \n",
              "29         40.744377                  N  ...             3     09:28:18   \n",
              "30         40.699703                  N  ...             5     05:53:23   \n",
              "31         40.773777                  N  ...             3     12:56:58   \n",
              "32         40.760067                  N  ...             2     00:29:51   \n",
              "33         40.743759                  N  ...             3     09:02:37   \n",
              "34         40.743011                  N  ...             3     08:38:12   \n",
              "35         40.706696                  N  ...             6     20:11:47   \n",
              "36         40.761982                  N  ...             4     02:23:06   \n",
              "37         40.732304                  N  ...             2     12:15:00   \n",
              "38         40.775181                  N  ...             4     14:01:06   \n",
              "39         40.768951                  N  ...             4     08:00:16   \n",
              "\n",
              "   pickup_season  pickup_day_period  dropoff_day_name dropoff_year  \\\n",
              "0         spring            Morning          Saturday         2016   \n",
              "1         spring            Morning          Thursday         2016   \n",
              "2         spring            Evening            Friday         2016   \n",
              "3         spring         Late Night          Thursday         2016   \n",
              "4         winter            Evening           Tuesday         2016   \n",
              "5         winter               Noon          Thursday         2016   \n",
              "6         spring              Night            Sunday         2016   \n",
              "7         spring         Late Night          Thursday         2016   \n",
              "8         winter         Late Night          Saturday         2016   \n",
              "9         winter            Evening          Saturday         2016   \n",
              "10        winter         Late Night          Saturday         2016   \n",
              "11        winter               Noon         Wednesday         2016   \n",
              "12        spring      Early Morning            Sunday         2016   \n",
              "13        spring         Late Night          Saturday         2016   \n",
              "14        summer      Early Morning           Tuesday         2016   \n",
              "15        spring               Noon           Tuesday         2016   \n",
              "16        winter               Noon            Friday         2016   \n",
              "17        spring               Noon         Wednesday         2016   \n",
              "18        winter              Night            Sunday         2016   \n",
              "19        spring              Night            Friday         2016   \n",
              "20        winter         Late Night            Sunday         2016   \n",
              "21        summer               Noon           Tuesday         2016   \n",
              "22        winter            Evening           Tuesday         2016   \n",
              "23        winter              Night            Monday         2016   \n",
              "24        winter              Night            Friday         2016   \n",
              "25        winter              Night            Friday         2016   \n",
              "26        spring            Evening            Monday         2016   \n",
              "27        winter            Morning          Saturday         2016   \n",
              "28        spring            Evening           Tuesday         2016   \n",
              "29        winter            Morning           Tuesday         2016   \n",
              "30        spring      Early Morning            Monday         2016   \n",
              "31        winter               Noon           Tuesday         2016   \n",
              "32        winter         Late Night            Sunday         2016   \n",
              "33        winter            Morning          Saturday         2016   \n",
              "34        winter            Morning            Friday         2016   \n",
              "35        spring              Night          Saturday         2016   \n",
              "36        spring         Late Night          Saturday         2016   \n",
              "37        winter               Noon         Wednesday         2016   \n",
              "38        spring               Noon          Thursday         2016   \n",
              "39        spring            Morning            Friday         2016   \n",
              "\n",
              "   dropoff_month dropoff_hour dropoff_season  dropoff_day_period  \n",
              "0              4     08:48:11         spring             Morning  \n",
              "1              4     11:24:24         spring             Morning  \n",
              "2              4     20:04:49         spring               Night  \n",
              "3              4     00:53:41         spring          Late Night  \n",
              "4              1     19:09:14         winter             Evening  \n",
              "5              2     13:02:52         winter                Noon  \n",
              "6              5     21:45:20         spring               Night  \n",
              "7              6     00:51:19         spring          Late Night  \n",
              "8              2     01:25:11         winter          Late Night  \n",
              "9              3     18:24:08         winter             Evening  \n",
              "10             3     02:18:31         winter          Late Night  \n",
              "11             1     14:36:09         winter                Noon  \n",
              "12             4     07:59:41         spring       Early Morning  \n",
              "13             6     02:23:23         spring          Late Night  \n",
              "14             6     08:12:20         summer             Morning  \n",
              "15             5     13:36:46         spring                Noon  \n",
              "16             2     15:28:38         winter                Noon  \n",
              "17             5     14:56:42         spring                Noon  \n",
              "18             2     22:27:21         winter               Night  \n",
              "19             5     21:36:58         spring               Night  \n",
              "20             2     00:13:15         winter          Late Night  \n",
              "21             6     14:08:50         summer                Noon  \n",
              "22             2     17:51:11         winter             Evening  \n",
              "23             2     23:00:56         winter               Night  \n",
              "24             2     23:43:20         winter               Night  \n",
              "25             2     22:26:05         winter               Night  \n",
              "26             6     18:26:07         spring             Evening  \n",
              "27             1     10:28:57         winter             Morning  \n",
              "28             6     16:48:48         spring             Evening  \n",
              "29             3     09:41:54         winter             Morning  \n",
              "30             5     06:09:57         spring       Early Morning  \n",
              "31             3     13:20:07         winter                Noon  \n",
              "32             2     00:36:48         winter          Late Night  \n",
              "33             3     09:07:10         winter             Morning  \n",
              "34             3     08:51:29         winter             Morning  \n",
              "35             6     20:37:41         spring               Night  \n",
              "36             4     02:40:56         spring          Late Night  \n",
              "37             2     12:40:26         winter                Noon  \n",
              "38             4     14:21:33         spring                Noon  \n",
              "39             4     08:38:51         spring             Morning  \n",
              "\n",
              "[40 rows x 24 columns]"
            ],
            "text/html": [
              "\n",
              "  <div id=\"df-b372c2ff-ec6e-4fcf-b579-09a6b9684e76\">\n",
              "    <div class=\"colab-df-container\">\n",
              "      <div>\n",
              "<style scoped>\n",
              "    .dataframe tbody tr th:only-of-type {\n",
              "        vertical-align: middle;\n",
              "    }\n",
              "\n",
              "    .dataframe tbody tr th {\n",
              "        vertical-align: top;\n",
              "    }\n",
              "\n",
              "    .dataframe thead th {\n",
              "        text-align: right;\n",
              "    }\n",
              "</style>\n",
              "<table border=\"1\" class=\"dataframe\">\n",
              "  <thead>\n",
              "    <tr style=\"text-align: right;\">\n",
              "      <th></th>\n",
              "      <th>id</th>\n",
              "      <th>vendor_id</th>\n",
              "      <th>pickup_datetime</th>\n",
              "      <th>dropoff_datetime</th>\n",
              "      <th>passenger_count</th>\n",
              "      <th>pickup_longitude</th>\n",
              "      <th>pickup_latitude</th>\n",
              "      <th>dropoff_longitude</th>\n",
              "      <th>dropoff_latitude</th>\n",
              "      <th>store_and_fwd_flag</th>\n",
              "      <th>...</th>\n",
              "      <th>pickup_month</th>\n",
              "      <th>pickup_hour</th>\n",
              "      <th>pickup_season</th>\n",
              "      <th>pickup_day_period</th>\n",
              "      <th>dropoff_day_name</th>\n",
              "      <th>dropoff_year</th>\n",
              "      <th>dropoff_month</th>\n",
              "      <th>dropoff_hour</th>\n",
              "      <th>dropoff_season</th>\n",
              "      <th>dropoff_day_period</th>\n",
              "    </tr>\n",
              "  </thead>\n",
              "  <tbody>\n",
              "    <tr>\n",
              "      <th>0</th>\n",
              "      <td>id2575240</td>\n",
              "      <td>2</td>\n",
              "      <td>2016-04-09 08:41:59</td>\n",
              "      <td>2016-04-09 08:48:11</td>\n",
              "      <td>1</td>\n",
              "      <td>-73.976501</td>\n",
              "      <td>40.788368</td>\n",
              "      <td>-73.957657</td>\n",
              "      <td>40.782452</td>\n",
              "      <td>N</td>\n",
              "      <td>...</td>\n",
              "      <td>4</td>\n",
              "      <td>08:41:59</td>\n",
              "      <td>spring</td>\n",
              "      <td>Morning</td>\n",
              "      <td>Saturday</td>\n",
              "      <td>2016</td>\n",
              "      <td>4</td>\n",
              "      <td>08:48:11</td>\n",
              "      <td>spring</td>\n",
              "      <td>Morning</td>\n",
              "    </tr>\n",
              "    <tr>\n",
              "      <th>1</th>\n",
              "      <td>id3828278</td>\n",
              "      <td>2</td>\n",
              "      <td>2016-04-07 11:12:45</td>\n",
              "      <td>2016-04-07 11:24:24</td>\n",
              "      <td>1</td>\n",
              "      <td>-73.992310</td>\n",
              "      <td>40.769211</td>\n",
              "      <td>-73.990662</td>\n",
              "      <td>40.758137</td>\n",
              "      <td>N</td>\n",
              "      <td>...</td>\n",
              "      <td>4</td>\n",
              "      <td>11:12:45</td>\n",
              "      <td>spring</td>\n",
              "      <td>Morning</td>\n",
              "      <td>Thursday</td>\n",
              "      <td>2016</td>\n",
              "      <td>4</td>\n",
              "      <td>11:24:24</td>\n",
              "      <td>spring</td>\n",
              "      <td>Morning</td>\n",
              "    </tr>\n",
              "    <tr>\n",
              "      <th>2</th>\n",
              "      <td>id1483137</td>\n",
              "      <td>2</td>\n",
              "      <td>2016-04-15 19:53:35</td>\n",
              "      <td>2016-04-15 20:04:49</td>\n",
              "      <td>1</td>\n",
              "      <td>-73.994713</td>\n",
              "      <td>40.746391</td>\n",
              "      <td>-73.969742</td>\n",
              "      <td>40.758484</td>\n",
              "      <td>N</td>\n",
              "      <td>...</td>\n",
              "      <td>4</td>\n",
              "      <td>19:53:35</td>\n",
              "      <td>spring</td>\n",
              "      <td>Evening</td>\n",
              "      <td>Friday</td>\n",
              "      <td>2016</td>\n",
              "      <td>4</td>\n",
              "      <td>20:04:49</td>\n",
              "      <td>spring</td>\n",
              "      <td>Night</td>\n",
              "    </tr>\n",
              "    <tr>\n",
              "      <th>3</th>\n",
              "      <td>id0416660</td>\n",
              "      <td>2</td>\n",
              "      <td>2016-04-21 00:47:17</td>\n",
              "      <td>2016-04-21 00:53:41</td>\n",
              "      <td>1</td>\n",
              "      <td>-73.988358</td>\n",
              "      <td>40.718460</td>\n",
              "      <td>-73.951538</td>\n",
              "      <td>40.713840</td>\n",
              "      <td>N</td>\n",
              "      <td>...</td>\n",
              "      <td>4</td>\n",
              "      <td>00:47:17</td>\n",
              "      <td>spring</td>\n",
              "      <td>Late Night</td>\n",
              "      <td>Thursday</td>\n",
              "      <td>2016</td>\n",
              "      <td>4</td>\n",
              "      <td>00:53:41</td>\n",
              "      <td>spring</td>\n",
              "      <td>Late Night</td>\n",
              "    </tr>\n",
              "    <tr>\n",
              "      <th>4</th>\n",
              "      <td>id2363476</td>\n",
              "      <td>1</td>\n",
              "      <td>2016-01-26 18:34:23</td>\n",
              "      <td>2016-01-26 19:09:14</td>\n",
              "      <td>1</td>\n",
              "      <td>-73.992332</td>\n",
              "      <td>40.743576</td>\n",
              "      <td>-73.979309</td>\n",
              "      <td>40.678200</td>\n",
              "      <td>N</td>\n",
              "      <td>...</td>\n",
              "      <td>1</td>\n",
              "      <td>18:34:23</td>\n",
              "      <td>winter</td>\n",
              "      <td>Evening</td>\n",
              "      <td>Tuesday</td>\n",
              "      <td>2016</td>\n",
              "      <td>1</td>\n",
              "      <td>19:09:14</td>\n",
              "      <td>winter</td>\n",
              "      <td>Evening</td>\n",
              "    </tr>\n",
              "    <tr>\n",
              "      <th>5</th>\n",
              "      <td>id2052565</td>\n",
              "      <td>1</td>\n",
              "      <td>2016-02-11 12:32:25</td>\n",
              "      <td>2016-02-11 13:02:52</td>\n",
              "      <td>1</td>\n",
              "      <td>-73.994453</td>\n",
              "      <td>40.734901</td>\n",
              "      <td>-73.992668</td>\n",
              "      <td>40.754372</td>\n",
              "      <td>N</td>\n",
              "      <td>...</td>\n",
              "      <td>2</td>\n",
              "      <td>12:32:25</td>\n",
              "      <td>winter</td>\n",
              "      <td>Noon</td>\n",
              "      <td>Thursday</td>\n",
              "      <td>2016</td>\n",
              "      <td>2</td>\n",
              "      <td>13:02:52</td>\n",
              "      <td>winter</td>\n",
              "      <td>Noon</td>\n",
              "    </tr>\n",
              "    <tr>\n",
              "      <th>6</th>\n",
              "      <td>id1889444</td>\n",
              "      <td>2</td>\n",
              "      <td>2016-05-22 21:41:09</td>\n",
              "      <td>2016-05-22 21:45:20</td>\n",
              "      <td>4</td>\n",
              "      <td>-73.973755</td>\n",
              "      <td>40.751656</td>\n",
              "      <td>-73.963348</td>\n",
              "      <td>40.764946</td>\n",
              "      <td>N</td>\n",
              "      <td>...</td>\n",
              "      <td>5</td>\n",
              "      <td>21:41:09</td>\n",
              "      <td>spring</td>\n",
              "      <td>Night</td>\n",
              "      <td>Sunday</td>\n",
              "      <td>2016</td>\n",
              "      <td>5</td>\n",
              "      <td>21:45:20</td>\n",
              "      <td>spring</td>\n",
              "      <td>Night</td>\n",
              "    </tr>\n",
              "    <tr>\n",
              "      <th>7</th>\n",
              "      <td>id1503795</td>\n",
              "      <td>2</td>\n",
              "      <td>2016-06-09 00:09:15</td>\n",
              "      <td>2016-06-09 00:51:19</td>\n",
              "      <td>6</td>\n",
              "      <td>-73.786140</td>\n",
              "      <td>40.644413</td>\n",
              "      <td>-73.982384</td>\n",
              "      <td>40.769234</td>\n",
              "      <td>N</td>\n",
              "      <td>...</td>\n",
              "      <td>6</td>\n",
              "      <td>00:09:15</td>\n",
              "      <td>spring</td>\n",
              "      <td>Late Night</td>\n",
              "      <td>Thursday</td>\n",
              "      <td>2016</td>\n",
              "      <td>6</td>\n",
              "      <td>00:51:19</td>\n",
              "      <td>spring</td>\n",
              "      <td>Late Night</td>\n",
              "    </tr>\n",
              "    <tr>\n",
              "      <th>8</th>\n",
              "      <td>id0590226</td>\n",
              "      <td>2</td>\n",
              "      <td>2016-02-27 01:21:42</td>\n",
              "      <td>2016-02-27 01:25:11</td>\n",
              "      <td>1</td>\n",
              "      <td>-73.993629</td>\n",
              "      <td>40.721088</td>\n",
              "      <td>-73.992264</td>\n",
              "      <td>40.725250</td>\n",
              "      <td>N</td>\n",
              "      <td>...</td>\n",
              "      <td>2</td>\n",
              "      <td>01:21:42</td>\n",
              "      <td>winter</td>\n",
              "      <td>Late Night</td>\n",
              "      <td>Saturday</td>\n",
              "      <td>2016</td>\n",
              "      <td>2</td>\n",
              "      <td>01:25:11</td>\n",
              "      <td>winter</td>\n",
              "      <td>Late Night</td>\n",
              "    </tr>\n",
              "    <tr>\n",
              "      <th>9</th>\n",
              "      <td>id2577516</td>\n",
              "      <td>1</td>\n",
              "      <td>2016-03-19 18:20:00</td>\n",
              "      <td>2016-03-19 18:24:08</td>\n",
              "      <td>1</td>\n",
              "      <td>-73.945457</td>\n",
              "      <td>40.778461</td>\n",
              "      <td>-73.953331</td>\n",
              "      <td>40.775513</td>\n",
              "      <td>N</td>\n",
              "      <td>...</td>\n",
              "      <td>3</td>\n",
              "      <td>18:20:00</td>\n",
              "      <td>winter</td>\n",
              "      <td>Evening</td>\n",
              "      <td>Saturday</td>\n",
              "      <td>2016</td>\n",
              "      <td>3</td>\n",
              "      <td>18:24:08</td>\n",
              "      <td>winter</td>\n",
              "      <td>Evening</td>\n",
              "    </tr>\n",
              "    <tr>\n",
              "      <th>10</th>\n",
              "      <td>id1241937</td>\n",
              "      <td>2</td>\n",
              "      <td>2016-03-19 02:04:18</td>\n",
              "      <td>2016-03-19 02:18:31</td>\n",
              "      <td>1</td>\n",
              "      <td>-73.984451</td>\n",
              "      <td>40.767319</td>\n",
              "      <td>-73.971283</td>\n",
              "      <td>40.786991</td>\n",
              "      <td>N</td>\n",
              "      <td>...</td>\n",
              "      <td>3</td>\n",
              "      <td>02:04:18</td>\n",
              "      <td>winter</td>\n",
              "      <td>Late Night</td>\n",
              "      <td>Saturday</td>\n",
              "      <td>2016</td>\n",
              "      <td>3</td>\n",
              "      <td>02:18:31</td>\n",
              "      <td>winter</td>\n",
              "      <td>Late Night</td>\n",
              "    </tr>\n",
              "    <tr>\n",
              "      <th>11</th>\n",
              "      <td>id3732836</td>\n",
              "      <td>1</td>\n",
              "      <td>2016-01-27 14:14:53</td>\n",
              "      <td>2016-01-27 14:36:09</td>\n",
              "      <td>1</td>\n",
              "      <td>-73.982559</td>\n",
              "      <td>40.742661</td>\n",
              "      <td>-74.004822</td>\n",
              "      <td>40.712597</td>\n",
              "      <td>N</td>\n",
              "      <td>...</td>\n",
              "      <td>1</td>\n",
              "      <td>14:14:53</td>\n",
              "      <td>winter</td>\n",
              "      <td>Noon</td>\n",
              "      <td>Wednesday</td>\n",
              "      <td>2016</td>\n",
              "      <td>1</td>\n",
              "      <td>14:36:09</td>\n",
              "      <td>winter</td>\n",
              "      <td>Noon</td>\n",
              "    </tr>\n",
              "    <tr>\n",
              "      <th>12</th>\n",
              "      <td>id2289852</td>\n",
              "      <td>1</td>\n",
              "      <td>2016-04-03 07:25:20</td>\n",
              "      <td>2016-04-03 07:59:41</td>\n",
              "      <td>1</td>\n",
              "      <td>-73.789963</td>\n",
              "      <td>40.643661</td>\n",
              "      <td>-73.956795</td>\n",
              "      <td>40.708042</td>\n",
              "      <td>N</td>\n",
              "      <td>...</td>\n",
              "      <td>4</td>\n",
              "      <td>07:25:20</td>\n",
              "      <td>spring</td>\n",
              "      <td>Early Morning</td>\n",
              "      <td>Sunday</td>\n",
              "      <td>2016</td>\n",
              "      <td>4</td>\n",
              "      <td>07:59:41</td>\n",
              "      <td>spring</td>\n",
              "      <td>Early Morning</td>\n",
              "    </tr>\n",
              "    <tr>\n",
              "      <th>13</th>\n",
              "      <td>id3706243</td>\n",
              "      <td>1</td>\n",
              "      <td>2016-06-11 02:20:00</td>\n",
              "      <td>2016-06-11 02:23:23</td>\n",
              "      <td>1</td>\n",
              "      <td>-73.989487</td>\n",
              "      <td>40.726227</td>\n",
              "      <td>-73.990135</td>\n",
              "      <td>40.723244</td>\n",
              "      <td>N</td>\n",
              "      <td>...</td>\n",
              "      <td>6</td>\n",
              "      <td>02:20:00</td>\n",
              "      <td>spring</td>\n",
              "      <td>Late Night</td>\n",
              "      <td>Saturday</td>\n",
              "      <td>2016</td>\n",
              "      <td>6</td>\n",
              "      <td>02:23:23</td>\n",
              "      <td>spring</td>\n",
              "      <td>Late Night</td>\n",
              "    </tr>\n",
              "    <tr>\n",
              "      <th>14</th>\n",
              "      <td>id1714600</td>\n",
              "      <td>1</td>\n",
              "      <td>2016-06-21 07:30:40</td>\n",
              "      <td>2016-06-21 08:12:20</td>\n",
              "      <td>1</td>\n",
              "      <td>-73.863045</td>\n",
              "      <td>40.769836</td>\n",
              "      <td>-73.973404</td>\n",
              "      <td>40.757252</td>\n",
              "      <td>N</td>\n",
              "      <td>...</td>\n",
              "      <td>6</td>\n",
              "      <td>07:30:40</td>\n",
              "      <td>summer</td>\n",
              "      <td>Early Morning</td>\n",
              "      <td>Tuesday</td>\n",
              "      <td>2016</td>\n",
              "      <td>6</td>\n",
              "      <td>08:12:20</td>\n",
              "      <td>summer</td>\n",
              "      <td>Morning</td>\n",
              "    </tr>\n",
              "    <tr>\n",
              "      <th>15</th>\n",
              "      <td>id1347797</td>\n",
              "      <td>2</td>\n",
              "      <td>2016-05-03 12:55:38</td>\n",
              "      <td>2016-05-03 13:36:46</td>\n",
              "      <td>6</td>\n",
              "      <td>-73.978645</td>\n",
              "      <td>40.753380</td>\n",
              "      <td>-74.006889</td>\n",
              "      <td>40.713623</td>\n",
              "      <td>N</td>\n",
              "      <td>...</td>\n",
              "      <td>5</td>\n",
              "      <td>12:55:38</td>\n",
              "      <td>spring</td>\n",
              "      <td>Noon</td>\n",
              "      <td>Tuesday</td>\n",
              "      <td>2016</td>\n",
              "      <td>5</td>\n",
              "      <td>13:36:46</td>\n",
              "      <td>spring</td>\n",
              "      <td>Noon</td>\n",
              "    </tr>\n",
              "    <tr>\n",
              "      <th>16</th>\n",
              "      <td>id3932702</td>\n",
              "      <td>2</td>\n",
              "      <td>2016-02-26 15:10:39</td>\n",
              "      <td>2016-02-26 15:28:38</td>\n",
              "      <td>2</td>\n",
              "      <td>-73.974983</td>\n",
              "      <td>40.789989</td>\n",
              "      <td>-73.999580</td>\n",
              "      <td>40.761330</td>\n",
              "      <td>N</td>\n",
              "      <td>...</td>\n",
              "      <td>2</td>\n",
              "      <td>15:10:39</td>\n",
              "      <td>winter</td>\n",
              "      <td>Noon</td>\n",
              "      <td>Friday</td>\n",
              "      <td>2016</td>\n",
              "      <td>2</td>\n",
              "      <td>15:28:38</td>\n",
              "      <td>winter</td>\n",
              "      <td>Noon</td>\n",
              "    </tr>\n",
              "    <tr>\n",
              "      <th>17</th>\n",
              "      <td>id1491651</td>\n",
              "      <td>2</td>\n",
              "      <td>2016-05-18 13:47:46</td>\n",
              "      <td>2016-05-18 14:56:42</td>\n",
              "      <td>1</td>\n",
              "      <td>-74.015762</td>\n",
              "      <td>40.712029</td>\n",
              "      <td>-73.974838</td>\n",
              "      <td>40.735451</td>\n",
              "      <td>N</td>\n",
              "      <td>...</td>\n",
              "      <td>5</td>\n",
              "      <td>13:47:46</td>\n",
              "      <td>spring</td>\n",
              "      <td>Noon</td>\n",
              "      <td>Wednesday</td>\n",
              "      <td>2016</td>\n",
              "      <td>5</td>\n",
              "      <td>14:56:42</td>\n",
              "      <td>spring</td>\n",
              "      <td>Noon</td>\n",
              "    </tr>\n",
              "    <tr>\n",
              "      <th>18</th>\n",
              "      <td>id0597423</td>\n",
              "      <td>1</td>\n",
              "      <td>2016-02-28 22:15:03</td>\n",
              "      <td>2016-02-28 22:27:21</td>\n",
              "      <td>1</td>\n",
              "      <td>-73.988174</td>\n",
              "      <td>40.749580</td>\n",
              "      <td>-73.946571</td>\n",
              "      <td>40.779140</td>\n",
              "      <td>N</td>\n",
              "      <td>...</td>\n",
              "      <td>2</td>\n",
              "      <td>22:15:03</td>\n",
              "      <td>winter</td>\n",
              "      <td>Night</td>\n",
              "      <td>Sunday</td>\n",
              "      <td>2016</td>\n",
              "      <td>2</td>\n",
              "      <td>22:27:21</td>\n",
              "      <td>winter</td>\n",
              "      <td>Night</td>\n",
              "    </tr>\n",
              "    <tr>\n",
              "      <th>19</th>\n",
              "      <td>id0205024</td>\n",
              "      <td>2</td>\n",
              "      <td>2016-05-20 21:29:09</td>\n",
              "      <td>2016-05-20 21:36:58</td>\n",
              "      <td>1</td>\n",
              "      <td>-73.973083</td>\n",
              "      <td>40.762619</td>\n",
              "      <td>-73.981010</td>\n",
              "      <td>40.779861</td>\n",
              "      <td>N</td>\n",
              "      <td>...</td>\n",
              "      <td>5</td>\n",
              "      <td>21:29:09</td>\n",
              "      <td>spring</td>\n",
              "      <td>Night</td>\n",
              "      <td>Friday</td>\n",
              "      <td>2016</td>\n",
              "      <td>5</td>\n",
              "      <td>21:36:58</td>\n",
              "      <td>spring</td>\n",
              "      <td>Night</td>\n",
              "    </tr>\n",
              "    <tr>\n",
              "      <th>20</th>\n",
              "      <td>id1644502</td>\n",
              "      <td>2</td>\n",
              "      <td>2016-02-28 00:03:49</td>\n",
              "      <td>2016-02-28 00:13:15</td>\n",
              "      <td>1</td>\n",
              "      <td>-74.008072</td>\n",
              "      <td>40.740200</td>\n",
              "      <td>-73.991127</td>\n",
              "      <td>40.734982</td>\n",
              "      <td>N</td>\n",
              "      <td>...</td>\n",
              "      <td>2</td>\n",
              "      <td>00:03:49</td>\n",
              "      <td>winter</td>\n",
              "      <td>Late Night</td>\n",
              "      <td>Sunday</td>\n",
              "      <td>2016</td>\n",
              "      <td>2</td>\n",
              "      <td>00:13:15</td>\n",
              "      <td>winter</td>\n",
              "      <td>Late Night</td>\n",
              "    </tr>\n",
              "    <tr>\n",
              "      <th>21</th>\n",
              "      <td>id1017772</td>\n",
              "      <td>1</td>\n",
              "      <td>2016-06-28 13:39:03</td>\n",
              "      <td>2016-06-28 14:08:50</td>\n",
              "      <td>1</td>\n",
              "      <td>-74.009827</td>\n",
              "      <td>40.708691</td>\n",
              "      <td>-73.989204</td>\n",
              "      <td>40.762024</td>\n",
              "      <td>N</td>\n",
              "      <td>...</td>\n",
              "      <td>6</td>\n",
              "      <td>13:39:03</td>\n",
              "      <td>summer</td>\n",
              "      <td>Noon</td>\n",
              "      <td>Tuesday</td>\n",
              "      <td>2016</td>\n",
              "      <td>6</td>\n",
              "      <td>14:08:50</td>\n",
              "      <td>summer</td>\n",
              "      <td>Noon</td>\n",
              "    </tr>\n",
              "    <tr>\n",
              "      <th>22</th>\n",
              "      <td>id1675737</td>\n",
              "      <td>2</td>\n",
              "      <td>2016-02-02 17:41:49</td>\n",
              "      <td>2016-02-02 17:51:11</td>\n",
              "      <td>3</td>\n",
              "      <td>-73.962410</td>\n",
              "      <td>40.779171</td>\n",
              "      <td>-73.969307</td>\n",
              "      <td>40.798931</td>\n",
              "      <td>N</td>\n",
              "      <td>...</td>\n",
              "      <td>2</td>\n",
              "      <td>17:41:49</td>\n",
              "      <td>winter</td>\n",
              "      <td>Evening</td>\n",
              "      <td>Tuesday</td>\n",
              "      <td>2016</td>\n",
              "      <td>2</td>\n",
              "      <td>17:51:11</td>\n",
              "      <td>winter</td>\n",
              "      <td>Evening</td>\n",
              "    </tr>\n",
              "    <tr>\n",
              "      <th>23</th>\n",
              "      <td>id1488306</td>\n",
              "      <td>1</td>\n",
              "      <td>2016-02-22 22:57:52</td>\n",
              "      <td>2016-02-22 23:00:56</td>\n",
              "      <td>1</td>\n",
              "      <td>-73.991547</td>\n",
              "      <td>40.749474</td>\n",
              "      <td>-73.991943</td>\n",
              "      <td>40.743626</td>\n",
              "      <td>N</td>\n",
              "      <td>...</td>\n",
              "      <td>2</td>\n",
              "      <td>22:57:52</td>\n",
              "      <td>winter</td>\n",
              "      <td>Night</td>\n",
              "      <td>Monday</td>\n",
              "      <td>2016</td>\n",
              "      <td>2</td>\n",
              "      <td>23:00:56</td>\n",
              "      <td>winter</td>\n",
              "      <td>Night</td>\n",
              "    </tr>\n",
              "    <tr>\n",
              "      <th>24</th>\n",
              "      <td>id2162305</td>\n",
              "      <td>1</td>\n",
              "      <td>2016-02-26 23:33:32</td>\n",
              "      <td>2016-02-26 23:43:20</td>\n",
              "      <td>1</td>\n",
              "      <td>-73.977333</td>\n",
              "      <td>40.742989</td>\n",
              "      <td>-73.992142</td>\n",
              "      <td>40.748871</td>\n",
              "      <td>N</td>\n",
              "      <td>...</td>\n",
              "      <td>2</td>\n",
              "      <td>23:33:32</td>\n",
              "      <td>winter</td>\n",
              "      <td>Night</td>\n",
              "      <td>Friday</td>\n",
              "      <td>2016</td>\n",
              "      <td>2</td>\n",
              "      <td>23:43:20</td>\n",
              "      <td>winter</td>\n",
              "      <td>Night</td>\n",
              "    </tr>\n",
              "    <tr>\n",
              "      <th>25</th>\n",
              "      <td>id2933793</td>\n",
              "      <td>2</td>\n",
              "      <td>2016-02-05 21:59:02</td>\n",
              "      <td>2016-02-05 22:26:05</td>\n",
              "      <td>1</td>\n",
              "      <td>-73.984146</td>\n",
              "      <td>40.734539</td>\n",
              "      <td>-73.987206</td>\n",
              "      <td>40.714809</td>\n",
              "      <td>N</td>\n",
              "      <td>...</td>\n",
              "      <td>2</td>\n",
              "      <td>21:59:02</td>\n",
              "      <td>winter</td>\n",
              "      <td>Night</td>\n",
              "      <td>Friday</td>\n",
              "      <td>2016</td>\n",
              "      <td>2</td>\n",
              "      <td>22:26:05</td>\n",
              "      <td>winter</td>\n",
              "      <td>Night</td>\n",
              "    </tr>\n",
              "    <tr>\n",
              "      <th>26</th>\n",
              "      <td>id3273386</td>\n",
              "      <td>1</td>\n",
              "      <td>2016-06-20 18:18:44</td>\n",
              "      <td>2016-06-20 18:26:07</td>\n",
              "      <td>1</td>\n",
              "      <td>-73.986183</td>\n",
              "      <td>40.734509</td>\n",
              "      <td>-73.985596</td>\n",
              "      <td>40.723282</td>\n",
              "      <td>N</td>\n",
              "      <td>...</td>\n",
              "      <td>6</td>\n",
              "      <td>18:18:44</td>\n",
              "      <td>spring</td>\n",
              "      <td>Evening</td>\n",
              "      <td>Monday</td>\n",
              "      <td>2016</td>\n",
              "      <td>6</td>\n",
              "      <td>18:26:07</td>\n",
              "      <td>spring</td>\n",
              "      <td>Evening</td>\n",
              "    </tr>\n",
              "    <tr>\n",
              "      <th>27</th>\n",
              "      <td>id2213171</td>\n",
              "      <td>2</td>\n",
              "      <td>2016-01-02 10:09:57</td>\n",
              "      <td>2016-01-02 10:28:57</td>\n",
              "      <td>1</td>\n",
              "      <td>-73.963951</td>\n",
              "      <td>40.774403</td>\n",
              "      <td>-73.872749</td>\n",
              "      <td>40.774323</td>\n",
              "      <td>N</td>\n",
              "      <td>...</td>\n",
              "      <td>1</td>\n",
              "      <td>10:09:57</td>\n",
              "      <td>winter</td>\n",
              "      <td>Morning</td>\n",
              "      <td>Saturday</td>\n",
              "      <td>2016</td>\n",
              "      <td>1</td>\n",
              "      <td>10:28:57</td>\n",
              "      <td>winter</td>\n",
              "      <td>Morning</td>\n",
              "    </tr>\n",
              "    <tr>\n",
              "      <th>28</th>\n",
              "      <td>id0741436</td>\n",
              "      <td>2</td>\n",
              "      <td>2016-06-07 16:41:26</td>\n",
              "      <td>2016-06-07 16:48:48</td>\n",
              "      <td>1</td>\n",
              "      <td>-73.954430</td>\n",
              "      <td>40.800671</td>\n",
              "      <td>-73.941719</td>\n",
              "      <td>40.804298</td>\n",
              "      <td>N</td>\n",
              "      <td>...</td>\n",
              "      <td>6</td>\n",
              "      <td>16:41:26</td>\n",
              "      <td>spring</td>\n",
              "      <td>Evening</td>\n",
              "      <td>Tuesday</td>\n",
              "      <td>2016</td>\n",
              "      <td>6</td>\n",
              "      <td>16:48:48</td>\n",
              "      <td>spring</td>\n",
              "      <td>Evening</td>\n",
              "    </tr>\n",
              "    <tr>\n",
              "      <th>29</th>\n",
              "      <td>id1432043</td>\n",
              "      <td>1</td>\n",
              "      <td>2016-03-08 09:28:18</td>\n",
              "      <td>2016-03-08 09:41:54</td>\n",
              "      <td>1</td>\n",
              "      <td>-73.953476</td>\n",
              "      <td>40.767365</td>\n",
              "      <td>-73.984528</td>\n",
              "      <td>40.744377</td>\n",
              "      <td>N</td>\n",
              "      <td>...</td>\n",
              "      <td>3</td>\n",
              "      <td>09:28:18</td>\n",
              "      <td>winter</td>\n",
              "      <td>Morning</td>\n",
              "      <td>Tuesday</td>\n",
              "      <td>2016</td>\n",
              "      <td>3</td>\n",
              "      <td>09:41:54</td>\n",
              "      <td>winter</td>\n",
              "      <td>Morning</td>\n",
              "    </tr>\n",
              "    <tr>\n",
              "      <th>30</th>\n",
              "      <td>id1127742</td>\n",
              "      <td>1</td>\n",
              "      <td>2016-05-30 05:53:23</td>\n",
              "      <td>2016-05-30 06:09:57</td>\n",
              "      <td>2</td>\n",
              "      <td>-73.981667</td>\n",
              "      <td>40.732487</td>\n",
              "      <td>-73.950981</td>\n",
              "      <td>40.699703</td>\n",
              "      <td>N</td>\n",
              "      <td>...</td>\n",
              "      <td>5</td>\n",
              "      <td>05:53:23</td>\n",
              "      <td>spring</td>\n",
              "      <td>Early Morning</td>\n",
              "      <td>Monday</td>\n",
              "      <td>2016</td>\n",
              "      <td>5</td>\n",
              "      <td>06:09:57</td>\n",
              "      <td>spring</td>\n",
              "      <td>Early Morning</td>\n",
              "    </tr>\n",
              "    <tr>\n",
              "      <th>31</th>\n",
              "      <td>id2525150</td>\n",
              "      <td>1</td>\n",
              "      <td>2016-03-08 12:56:58</td>\n",
              "      <td>2016-03-08 13:20:07</td>\n",
              "      <td>1</td>\n",
              "      <td>-73.978241</td>\n",
              "      <td>40.744911</td>\n",
              "      <td>-73.870483</td>\n",
              "      <td>40.773777</td>\n",
              "      <td>N</td>\n",
              "      <td>...</td>\n",
              "      <td>3</td>\n",
              "      <td>12:56:58</td>\n",
              "      <td>winter</td>\n",
              "      <td>Noon</td>\n",
              "      <td>Tuesday</td>\n",
              "      <td>2016</td>\n",
              "      <td>3</td>\n",
              "      <td>13:20:07</td>\n",
              "      <td>winter</td>\n",
              "      <td>Noon</td>\n",
              "    </tr>\n",
              "    <tr>\n",
              "      <th>32</th>\n",
              "      <td>id0605641</td>\n",
              "      <td>1</td>\n",
              "      <td>2016-02-28 00:29:51</td>\n",
              "      <td>2016-02-28 00:36:48</td>\n",
              "      <td>2</td>\n",
              "      <td>-73.981903</td>\n",
              "      <td>40.768951</td>\n",
              "      <td>-73.994972</td>\n",
              "      <td>40.760067</td>\n",
              "      <td>N</td>\n",
              "      <td>...</td>\n",
              "      <td>2</td>\n",
              "      <td>00:29:51</td>\n",
              "      <td>winter</td>\n",
              "      <td>Late Night</td>\n",
              "      <td>Sunday</td>\n",
              "      <td>2016</td>\n",
              "      <td>2</td>\n",
              "      <td>00:36:48</td>\n",
              "      <td>winter</td>\n",
              "      <td>Late Night</td>\n",
              "    </tr>\n",
              "    <tr>\n",
              "      <th>33</th>\n",
              "      <td>id3330918</td>\n",
              "      <td>2</td>\n",
              "      <td>2016-03-19 09:02:37</td>\n",
              "      <td>2016-03-19 09:07:10</td>\n",
              "      <td>4</td>\n",
              "      <td>-73.903084</td>\n",
              "      <td>40.745941</td>\n",
              "      <td>-73.922188</td>\n",
              "      <td>40.743759</td>\n",
              "      <td>N</td>\n",
              "      <td>...</td>\n",
              "      <td>3</td>\n",
              "      <td>09:02:37</td>\n",
              "      <td>winter</td>\n",
              "      <td>Morning</td>\n",
              "      <td>Saturday</td>\n",
              "      <td>2016</td>\n",
              "      <td>3</td>\n",
              "      <td>09:07:10</td>\n",
              "      <td>winter</td>\n",
              "      <td>Morning</td>\n",
              "    </tr>\n",
              "    <tr>\n",
              "      <th>34</th>\n",
              "      <td>id1801347</td>\n",
              "      <td>2</td>\n",
              "      <td>2016-03-11 08:38:12</td>\n",
              "      <td>2016-03-11 08:51:29</td>\n",
              "      <td>1</td>\n",
              "      <td>-73.974342</td>\n",
              "      <td>40.736801</td>\n",
              "      <td>-73.986481</td>\n",
              "      <td>40.743011</td>\n",
              "      <td>N</td>\n",
              "      <td>...</td>\n",
              "      <td>3</td>\n",
              "      <td>08:38:12</td>\n",
              "      <td>winter</td>\n",
              "      <td>Morning</td>\n",
              "      <td>Friday</td>\n",
              "      <td>2016</td>\n",
              "      <td>3</td>\n",
              "      <td>08:51:29</td>\n",
              "      <td>winter</td>\n",
              "      <td>Morning</td>\n",
              "    </tr>\n",
              "    <tr>\n",
              "      <th>35</th>\n",
              "      <td>id0303360</td>\n",
              "      <td>1</td>\n",
              "      <td>2016-06-04 20:11:47</td>\n",
              "      <td>2016-06-04 20:37:41</td>\n",
              "      <td>1</td>\n",
              "      <td>-74.008560</td>\n",
              "      <td>40.714138</td>\n",
              "      <td>-73.942795</td>\n",
              "      <td>40.706696</td>\n",
              "      <td>N</td>\n",
              "      <td>...</td>\n",
              "      <td>6</td>\n",
              "      <td>20:11:47</td>\n",
              "      <td>spring</td>\n",
              "      <td>Night</td>\n",
              "      <td>Saturday</td>\n",
              "      <td>2016</td>\n",
              "      <td>6</td>\n",
              "      <td>20:37:41</td>\n",
              "      <td>spring</td>\n",
              "      <td>Night</td>\n",
              "    </tr>\n",
              "    <tr>\n",
              "      <th>36</th>\n",
              "      <td>id2307761</td>\n",
              "      <td>2</td>\n",
              "      <td>2016-04-09 02:23:06</td>\n",
              "      <td>2016-04-09 02:40:56</td>\n",
              "      <td>1</td>\n",
              "      <td>-73.982826</td>\n",
              "      <td>40.730907</td>\n",
              "      <td>-73.925438</td>\n",
              "      <td>40.761982</td>\n",
              "      <td>N</td>\n",
              "      <td>...</td>\n",
              "      <td>4</td>\n",
              "      <td>02:23:06</td>\n",
              "      <td>spring</td>\n",
              "      <td>Late Night</td>\n",
              "      <td>Saturday</td>\n",
              "      <td>2016</td>\n",
              "      <td>4</td>\n",
              "      <td>02:40:56</td>\n",
              "      <td>spring</td>\n",
              "      <td>Late Night</td>\n",
              "    </tr>\n",
              "    <tr>\n",
              "      <th>37</th>\n",
              "      <td>id3903935</td>\n",
              "      <td>1</td>\n",
              "      <td>2016-02-24 12:15:00</td>\n",
              "      <td>2016-02-24 12:40:26</td>\n",
              "      <td>1</td>\n",
              "      <td>-73.999908</td>\n",
              "      <td>40.737823</td>\n",
              "      <td>-73.984726</td>\n",
              "      <td>40.732304</td>\n",
              "      <td>N</td>\n",
              "      <td>...</td>\n",
              "      <td>2</td>\n",
              "      <td>12:15:00</td>\n",
              "      <td>winter</td>\n",
              "      <td>Noon</td>\n",
              "      <td>Wednesday</td>\n",
              "      <td>2016</td>\n",
              "      <td>2</td>\n",
              "      <td>12:40:26</td>\n",
              "      <td>winter</td>\n",
              "      <td>Noon</td>\n",
              "    </tr>\n",
              "    <tr>\n",
              "      <th>38</th>\n",
              "      <td>id2175591</td>\n",
              "      <td>2</td>\n",
              "      <td>2016-04-28 14:01:06</td>\n",
              "      <td>2016-04-28 14:21:33</td>\n",
              "      <td>5</td>\n",
              "      <td>-73.970856</td>\n",
              "      <td>40.761375</td>\n",
              "      <td>-73.985275</td>\n",
              "      <td>40.775181</td>\n",
              "      <td>N</td>\n",
              "      <td>...</td>\n",
              "      <td>4</td>\n",
              "      <td>14:01:06</td>\n",
              "      <td>spring</td>\n",
              "      <td>Noon</td>\n",
              "      <td>Thursday</td>\n",
              "      <td>2016</td>\n",
              "      <td>4</td>\n",
              "      <td>14:21:33</td>\n",
              "      <td>spring</td>\n",
              "      <td>Noon</td>\n",
              "    </tr>\n",
              "    <tr>\n",
              "      <th>39</th>\n",
              "      <td>id1741491</td>\n",
              "      <td>2</td>\n",
              "      <td>2016-04-22 08:00:16</td>\n",
              "      <td>2016-04-22 08:38:51</td>\n",
              "      <td>1</td>\n",
              "      <td>-73.980949</td>\n",
              "      <td>40.733898</td>\n",
              "      <td>-73.965363</td>\n",
              "      <td>40.768951</td>\n",
              "      <td>N</td>\n",
              "      <td>...</td>\n",
              "      <td>4</td>\n",
              "      <td>08:00:16</td>\n",
              "      <td>spring</td>\n",
              "      <td>Morning</td>\n",
              "      <td>Friday</td>\n",
              "      <td>2016</td>\n",
              "      <td>4</td>\n",
              "      <td>08:38:51</td>\n",
              "      <td>spring</td>\n",
              "      <td>Morning</td>\n",
              "    </tr>\n",
              "  </tbody>\n",
              "</table>\n",
              "<p>40 rows × 24 columns</p>\n",
              "</div>\n",
              "      <button class=\"colab-df-convert\" onclick=\"convertToInteractive('df-b372c2ff-ec6e-4fcf-b579-09a6b9684e76')\"\n",
              "              title=\"Convert this dataframe to an interactive table.\"\n",
              "              style=\"display:none;\">\n",
              "        \n",
              "  <svg xmlns=\"http://www.w3.org/2000/svg\" height=\"24px\"viewBox=\"0 0 24 24\"\n",
              "       width=\"24px\">\n",
              "    <path d=\"M0 0h24v24H0V0z\" fill=\"none\"/>\n",
              "    <path d=\"M18.56 5.44l.94 2.06.94-2.06 2.06-.94-2.06-.94-.94-2.06-.94 2.06-2.06.94zm-11 1L8.5 8.5l.94-2.06 2.06-.94-2.06-.94L8.5 2.5l-.94 2.06-2.06.94zm10 10l.94 2.06.94-2.06 2.06-.94-2.06-.94-.94-2.06-.94 2.06-2.06.94z\"/><path d=\"M17.41 7.96l-1.37-1.37c-.4-.4-.92-.59-1.43-.59-.52 0-1.04.2-1.43.59L10.3 9.45l-7.72 7.72c-.78.78-.78 2.05 0 2.83L4 21.41c.39.39.9.59 1.41.59.51 0 1.02-.2 1.41-.59l7.78-7.78 2.81-2.81c.8-.78.8-2.07 0-2.86zM5.41 20L4 18.59l7.72-7.72 1.47 1.35L5.41 20z\"/>\n",
              "  </svg>\n",
              "      </button>\n",
              "      \n",
              "  <style>\n",
              "    .colab-df-container {\n",
              "      display:flex;\n",
              "      flex-wrap:wrap;\n",
              "      gap: 12px;\n",
              "    }\n",
              "\n",
              "    .colab-df-convert {\n",
              "      background-color: #E8F0FE;\n",
              "      border: none;\n",
              "      border-radius: 50%;\n",
              "      cursor: pointer;\n",
              "      display: none;\n",
              "      fill: #1967D2;\n",
              "      height: 32px;\n",
              "      padding: 0 0 0 0;\n",
              "      width: 32px;\n",
              "    }\n",
              "\n",
              "    .colab-df-convert:hover {\n",
              "      background-color: #E2EBFA;\n",
              "      box-shadow: 0px 1px 2px rgba(60, 64, 67, 0.3), 0px 1px 3px 1px rgba(60, 64, 67, 0.15);\n",
              "      fill: #174EA6;\n",
              "    }\n",
              "\n",
              "    [theme=dark] .colab-df-convert {\n",
              "      background-color: #3B4455;\n",
              "      fill: #D2E3FC;\n",
              "    }\n",
              "\n",
              "    [theme=dark] .colab-df-convert:hover {\n",
              "      background-color: #434B5C;\n",
              "      box-shadow: 0px 1px 3px 1px rgba(0, 0, 0, 0.15);\n",
              "      filter: drop-shadow(0px 1px 2px rgba(0, 0, 0, 0.3));\n",
              "      fill: #FFFFFF;\n",
              "    }\n",
              "  </style>\n",
              "\n",
              "      <script>\n",
              "        const buttonEl =\n",
              "          document.querySelector('#df-b372c2ff-ec6e-4fcf-b579-09a6b9684e76 button.colab-df-convert');\n",
              "        buttonEl.style.display =\n",
              "          google.colab.kernel.accessAllowed ? 'block' : 'none';\n",
              "\n",
              "        async function convertToInteractive(key) {\n",
              "          const element = document.querySelector('#df-b372c2ff-ec6e-4fcf-b579-09a6b9684e76');\n",
              "          const dataTable =\n",
              "            await google.colab.kernel.invokeFunction('convertToInteractive',\n",
              "                                                     [key], {});\n",
              "          if (!dataTable) return;\n",
              "\n",
              "          const docLinkHtml = 'Like what you see? Visit the ' +\n",
              "            '<a target=\"_blank\" href=https://colab.research.google.com/notebooks/data_table.ipynb>data table notebook</a>'\n",
              "            + ' to learn more about interactive tables.';\n",
              "          element.innerHTML = '';\n",
              "          dataTable['output_type'] = 'display_data';\n",
              "          await google.colab.output.renderOutput(dataTable, element);\n",
              "          const docLink = document.createElement('div');\n",
              "          docLink.innerHTML = docLinkHtml;\n",
              "          element.appendChild(docLink);\n",
              "        }\n",
              "      </script>\n",
              "    </div>\n",
              "  </div>\n",
              "  "
            ]
          },
          "metadata": {},
          "execution_count": 10
        }
      ],
      "source": [
        "\n",
        "# importing pandas package\n",
        "import pandas as pd\n",
        "from datetime import date, datetime\n",
        "import dateutil\n",
        "\n",
        "# dftime IS DATAFRAME FOR TRAIN_SET \n",
        "\n",
        "#We create the below columns for pickup_datetime \n",
        "\n",
        "df_train[\"pickup_datetime\"]= pd.to_datetime(df_train[\"pickup_datetime\"])\n",
        "\n",
        "df_train['pickup_day_name'] = df_train['pickup_datetime'].dt.day_name()               # pickup_day_name\n",
        "df_train['pickup_year'] = pd.to_datetime(df_train['pickup_datetime']).dt.year         # pickup_year\n",
        "df_train['pickup_month'] = pd.to_datetime(df_train['pickup_datetime']).dt.month       # pickup_month\n",
        "df_train['pickup_hour'] = pd.to_datetime(df_train['pickup_datetime']).dt.time         # pickup_hour\n",
        "\n",
        "\n",
        "df_train['date_offset'] = (df_train.pickup_datetime.dt.month*100 + df_train.pickup_datetime.dt.day - 320)%1300\n",
        "df_train['pickup_season'] = pd.cut(df_train['date_offset'], [0, 300, 602, 900, 1300],labels=['spring', 'summer', 'autumn', 'winter']) # pickup_season\n",
        "\n",
        "df_train['pickup_day_period'] = (df_train['pickup_datetime'].dt.hour % 24 + 4) // 4     #pickup_day_period\n",
        "df_train['pickup_day_period'].replace({1: 'Late Night',     \n",
        "                      2: 'Early Morning',\n",
        "                      3: 'Morning',\n",
        "                      4: 'Noon',\n",
        "                      5: 'Evening',\n",
        "                      6: 'Night'}, inplace=True)\n",
        "\n",
        "\n",
        "\n",
        "\n",
        "#We create the below columns for dropoff_datetime \n",
        "\n",
        "df_train[\"dropoff_datetime\"]= pd.to_datetime(df_train[\"dropoff_datetime\"])\n",
        "\n",
        "df_train['dropoff_day_name'] = df_train['dropoff_datetime'].dt.day_name()              # dropoff_day_name\n",
        "df_train['dropoff_year'] = pd.to_datetime(df_train['dropoff_datetime']).dt.year        # dropoff_year \n",
        "df_train['dropoff_month'] = pd.to_datetime(df_train['dropoff_datetime']).dt.month      # dropoff_month\n",
        "df_train['dropoff_hour'] = pd.to_datetime(df_train['dropoff_datetime']).dt.time        # dropoff_hour\n",
        "\n",
        "\n",
        "df_train['date_offset1'] = (df_train.pickup_datetime.dt.month*100 + df_train.pickup_datetime.dt.day - 320)%1300\n",
        "df_train['dropoff_season'] = pd.cut(df_train['date_offset1'], [0, 300, 602, 900, 1300],labels=['spring', 'summer', 'autumn', 'winter']) # pickup_season\n",
        "\n",
        "df_train['dropoff_day_period'] = (df_train['dropoff_datetime'].dt.hour % 24 + 4) // 4   #dropoff_day_period\n",
        "df_train['dropoff_day_period'].replace({1: 'Late Night',\n",
        "                      2: 'Early Morning',\n",
        "                      3: 'Morning',\n",
        "                      4: 'Noon',\n",
        "                      5: 'Evening',\n",
        "                      6: 'Night'}, inplace=True)\n",
        "\n",
        "del df_train[\"date_offset\"]\n",
        "del df_train[\"date_offset1\"]\n",
        "\n",
        "\n",
        "# df_test IS DATAFRAME FOR TEST_SET \n",
        "\n",
        "#We create the below columns for pickup_datetime \n",
        "\n",
        "df_test[\"pickup_datetime\"]= pd.to_datetime(df_test[\"pickup_datetime\"])\n",
        "\n",
        "df_test['pickup_day_name'] = df_test['pickup_datetime'].dt.day_name()               # pickup_day_name\n",
        "df_test['pickup_year'] = pd.to_datetime(df_test['pickup_datetime']).dt.year         # pickup_year\n",
        "df_test['pickup_month'] = pd.to_datetime(df_test['pickup_datetime']).dt.month       # pickup_month\n",
        "df_test['pickup_hour'] = pd.to_datetime(df_test['pickup_datetime']).dt.time         # pickup_hour\n",
        "\n",
        "\n",
        "df_test['date_offset'] = (df_test.pickup_datetime.dt.month*100 + df_test.pickup_datetime.dt.day - 320)%1300\n",
        "df_test['pickup_season'] = pd.cut(df_test['date_offset'], [0, 300, 602, 900, 1300],labels=['spring', 'summer', 'autumn', 'winter']) # pickup_season\n",
        "\n",
        "df_test['pickup_day_period'] = (df_test['pickup_datetime'].dt.hour % 24 + 4) // 4     #pickup_day_period\n",
        "df_test['pickup_day_period'].replace({1: 'Late Night',     \n",
        "                      2: 'Early Morning',\n",
        "                      3: 'Morning',\n",
        "                      4: 'Noon',\n",
        "                      5: 'Evening',\n",
        "                      6: 'Night'}, inplace=True)\n",
        "\n",
        "del df_test[\"date_offset\"]\n",
        "\n",
        "df_train.head(40)\n",
        "\n"
      ]
    },
    {
      "cell_type": "code",
      "execution_count": null,
      "metadata": {
        "id": "lgq1tf29wsUK",
        "colab": {
          "base_uri": "https://localhost:8080/",
          "height": 280
        },
        "outputId": "b3a711bf-ae48-496c-e6c9-b1e6bc7d734b"
      },
      "outputs": [
        {
          "output_type": "display_data",
          "data": {
            "text/plain": [
              "<Figure size 432x288 with 1 Axes>"
            ],
            "image/png": "[encoded data removed]"
          },
          "metadata": {
            "needs_background": "light"
          }
        }
      ],
      "source": [
        "import seaborn as sns\n",
        "\n",
        "ax = sns.countplot(x=\"pickup_day_name\",data=df_train)\n"
      ]
    },
    {
      "cell_type": "code",
      "execution_count": null,
      "metadata": {
        "id": "5XIqjzmqx86b",
        "colab": {
          "base_uri": "https://localhost:8080/",
          "height": 280
        },
        "outputId": "a599e0a6-be76-43b4-a5ff-419d4dc1b43e"
      },
      "outputs": [
        {
          "output_type": "display_data",
          "data": {
            "text/plain": [
              "<Figure size 432x288 with 1 Axes>"
            ],
            "image/png": "[encoded data removed]"
          },
          "metadata": {
            "needs_background": "light"
          }
        }
      ],
      "source": [
        "ax1 = sns.countplot(x=\"dropoff_day_name\",data=df_train)"
      ]
    },
    {
      "cell_type": "code",
      "execution_count": null,
      "metadata": {
        "id": "twlz2rjhx9Ge",
        "colab": {
          "base_uri": "https://localhost:8080/",
          "height": 280
        },
        "outputId": "1732cb4c-518f-418b-ebf1-82325927394a"
      },
      "outputs": [
        {
          "output_type": "display_data",
          "data": {
            "text/plain": [
              "<Figure size 432x288 with 1 Axes>"
            ],
            "image/png": "[encoded data removed]"
          },
          "metadata": {
            "needs_background": "light"
          }
        }
      ],
      "source": [
        "ax2 = sns.countplot(x=\"pickup_day_period\",data=df_train)"
      ]
    },
    {
      "cell_type": "code",
      "execution_count": null,
      "metadata": {
        "id": "58dA1h9Jx9Ru",
        "colab": {
          "base_uri": "https://localhost:8080/",
          "height": 280
        },
        "outputId": "8babdc0e-45e3-4a95-ad33-1fdc6d0a3ef1"
      },
      "outputs": [
        {
          "output_type": "display_data",
          "data": {
            "text/plain": [
              "<Figure size 432x288 with 1 Axes>"
            ],
            "image/png": "[encoded data removed]"
          },
          "metadata": {
            "needs_background": "light"
          }
        }
      ],
      "source": [
        "ax3 = sns.countplot(x=\"dropoff_day_period\",data=df_train)"
      ]
    },
    {
      "cell_type": "code",
      "execution_count": null,
      "metadata": {
        "id": "NbYB94IOx9cx",
        "colab": {
          "base_uri": "https://localhost:8080/",
          "height": 280
        },
        "outputId": "143d456b-f22a-431a-baa6-cb54f3fbd20d"
      },
      "outputs": [
        {
          "output_type": "display_data",
          "data": {
            "text/plain": [
              "<Figure size 432x288 with 1 Axes>"
            ],
            "image/png": "[encoded data removed]"
          },
          "metadata": {
            "needs_background": "light"
          }
        }
      ],
      "source": [
        "ax4 = sns.countplot(x=\"pickup_month\",data=df_train)"
      ]
    },
    {
      "cell_type": "code",
      "execution_count": null,
      "metadata": {
        "id": "Ls60K8-5yFEN",
        "colab": {
          "base_uri": "https://localhost:8080/",
          "height": 280
        },
        "outputId": "e0bc3e73-aa7c-4740-de5a-75442220e3b5"
      },
      "outputs": [
        {
          "output_type": "display_data",
          "data": {
            "text/plain": [
              "<Figure size 432x288 with 1 Axes>"
            ],
            "image/png": "[encoded data removed]"
          },
          "metadata": {
            "needs_background": "light"
          }
        }
      ],
      "source": [
        "ax5 = sns.countplot(x=\"dropoff_month\",data=df_train)"
      ]
    },
    {
      "cell_type": "markdown",
      "metadata": {
        "id": "5BvN7PqxaKgC"
      },
      "source": [
        "**1.4**"
      ]
    },
    {
      "cell_type": "code",
      "execution_count": null,
      "metadata": {
        "id": "kJyXl_dXaJSx",
        "colab": {
          "base_uri": "https://localhost:8080/",
          "height": 1000
        },
        "outputId": "5a805285-2ef8-4da8-effc-0ee517cfbb1c"
      },
      "outputs": [
        {
          "output_type": "stream",
          "name": "stdout",
          "text": [
            "Histogram for column trip duration\n"
          ]
        },
        {
          "output_type": "display_data",
          "data": {
            "text/plain": [
              "<Figure size 432x288 with 1 Axes>"
            ],
            "image/png": "[encoded data removed]"
          },
          "metadata": {
            "needs_background": "light"
          }
        },
        {
          "output_type": "stream",
          "name": "stderr",
          "text": [
            "No handles with labels found to put in legend.\n"
          ]
        },
        {
          "output_type": "stream",
          "name": "stdout",
          "text": [
            "Histogram for column log_trip_duration\n"
          ]
        },
        {
          "output_type": "execute_result",
          "data": {
            "text/plain": [
              "(array([2.8000e+01, 0.0000e+00, 0.0000e+00, 0.0000e+00, 0.0000e+00,\n",
              "        0.0000e+00, 0.0000e+00, 1.2700e+02, 0.0000e+00, 0.0000e+00,\n",
              "        0.0000e+00, 2.2300e+02, 0.0000e+00, 0.0000e+00, 2.3000e+02,\n",
              "        0.0000e+00, 0.0000e+00, 2.1400e+02, 0.0000e+00, 1.4300e+02,\n",
              "        1.6300e+02, 0.0000e+00, 1.5200e+02, 1.7900e+02, 1.3700e+02,\n",
              "        1.2700e+02, 1.1100e+02, 1.2300e+02, 2.4100e+02, 9.1000e+01,\n",
              "        2.0000e+02, 1.0300e+02, 1.8000e+02, 2.7500e+02, 1.8600e+02,\n",
              "        2.5800e+02, 1.9800e+02, 2.4800e+02, 3.4700e+02, 3.5900e+02,\n",
              "        3.7700e+02, 4.3100e+02, 4.9400e+02, 7.5700e+02, 8.3900e+02,\n",
              "        9.9300e+02, 1.5160e+03, 1.8210e+03, 2.1660e+03, 3.1360e+03,\n",
              "        4.1290e+03, 4.7480e+03, 6.5040e+03, 8.2540e+03, 1.0145e+04,\n",
              "        1.2991e+04, 1.5104e+04, 1.9536e+04, 2.1710e+04, 2.5943e+04,\n",
              "        3.0337e+04, 3.4740e+04, 3.8169e+04, 4.3128e+04, 4.6512e+04,\n",
              "        5.0426e+04, 5.2926e+04, 5.6550e+04, 5.6829e+04, 5.9107e+04,\n",
              "        5.8656e+04, 5.7412e+04, 5.6674e+04, 5.3450e+04, 4.8588e+04,\n",
              "        4.5164e+04, 3.9903e+04, 3.5221e+04, 3.0204e+04, 2.4478e+04,\n",
              "        2.0026e+04, 1.5898e+04, 1.2214e+04, 9.6900e+03, 7.6100e+03,\n",
              "        5.8990e+03, 4.3740e+03, 3.2430e+03, 2.2320e+03, 1.5680e+03,\n",
              "        1.0120e+03, 5.8900e+02, 3.2300e+02, 1.6300e+02, 7.1000e+01,\n",
              "        4.2000e+01, 3.2000e+01, 1.4000e+01, 9.0000e+00, 1.3000e+01]),\n",
              " array([ 0.        ,  0.13496354,  0.26992709,  0.40489063,  0.53985418,\n",
              "         0.67481772,  0.80978127,  0.94474481,  1.07970836,  1.2146719 ,\n",
              "         1.34963545,  1.48459899,  1.61956254,  1.75452608,  1.88948963,\n",
              "         2.02445317,  2.15941672,  2.29438026,  2.42934381,  2.56430735,\n",
              "         2.6992709 ,  2.83423444,  2.96919799,  3.10416153,  3.23912508,\n",
              "         3.37408862,  3.50905217,  3.64401571,  3.77897926,  3.9139428 ,\n",
              "         4.04890635,  4.18386989,  4.31883344,  4.45379698,  4.58876053,\n",
              "         4.72372407,  4.85868762,  4.99365116,  5.12861471,  5.26357825,\n",
              "         5.3985418 ,  5.53350534,  5.66846889,  5.80343243,  5.93839597,\n",
              "         6.07335952,  6.20832306,  6.34328661,  6.47825015,  6.6132137 ,\n",
              "         6.74817724,  6.88314079,  7.01810433,  7.15306788,  7.28803142,\n",
              "         7.42299497,  7.55795851,  7.69292206,  7.8278856 ,  7.96284915,\n",
              "         8.09781269,  8.23277624,  8.36773978,  8.50270333,  8.63766687,\n",
              "         8.77263042,  8.90759396,  9.04255751,  9.17752105,  9.3124846 ,\n",
              "         9.44744814,  9.58241169,  9.71737523,  9.85233878,  9.98730232,\n",
              "        10.12226587, 10.25722941, 10.39219296, 10.5271565 , 10.66212005,\n",
              "        10.79708359, 10.93204714, 11.06701068, 11.20197423, 11.33693777,\n",
              "        11.47190132, 11.60686486, 11.74182841, 11.87679195, 12.01175549,\n",
              "        12.14671904, 12.28168258, 12.41664613, 12.55160967, 12.68657322,\n",
              "        12.82153676, 12.95650031, 13.09146385, 13.2264274 , 13.36139094,\n",
              "        13.49635449]),\n",
              " <a list of 100 Patch objects>)"
            ]
          },
          "metadata": {},
          "execution_count": 17
        },
        {
          "output_type": "display_data",
          "data": {
            "text/plain": [
              "<Figure size 432x288 with 1 Axes>"
            ],
            "image/png": "[encoded data removed]"
          },
          "metadata": {
            "needs_background": "light"
          }
        }
      ],
      "source": [
        "from matplotlib import pyplot as plt\n",
        "import numpy as np\n",
        "\n",
        "df_train.head(10)\n",
        "data = df_train['trip_duration']\n",
        "\n",
        "print(\"Histogram for column trip duration\")\n",
        "plt.hist(data, bins = 100,label='log_trip_duration')\n",
        "plt.show()\n",
        "plt.legend()\n",
        "df_train['log_trip_duration'] = np.log2(df_train['trip_duration'])\n",
        "newdata = df_train['log_trip_duration']\n",
        "print(\"Histogram for column log_trip_duration\")\n",
        "plt.hist(newdata, bins = 100)\n",
        "#df_train.head(10)\n"
      ]
    },
    {
      "cell_type": "code",
      "source": [
        "ax6 = sns.countplot(x=\"trip_duration\",data=df_train)"
      ],
      "metadata": {
        "id": "3hY4l9q3_hvy",
        "colab": {
          "base_uri": "https://localhost:8080/",
          "height": 280
        },
        "outputId": "fec345bc-5b8b-4df1-d6b6-4f132cc447db"
      },
      "execution_count": null,
      "outputs": [
        {
          "output_type": "display_data",
          "data": {
            "text/plain": [
              "<Figure size 432x288 with 1 Axes>"
            ],
            "image/png": "[encoded data removed]"
          },
          "metadata": {
            "needs_background": "light"
          }
        }
      ]
    },
    {
      "cell_type": "code",
      "source": [
        "ax7 = sns.countplot(x=\"log_trip_duration\",data=df_train)"
      ],
      "metadata": {
        "id": "lR1nP9pa_-fq",
        "colab": {
          "base_uri": "https://localhost:8080/",
          "height": 280
        },
        "outputId": "d6f9a8e9-b624-4d66-b093-266345b7fb63"
      },
      "execution_count": null,
      "outputs": [
        {
          "output_type": "display_data",
          "data": {
            "text/plain": [
              "<Figure size 432x288 with 1 Axes>"
            ],
            "image/png": "[encoded data removed]"
          },
          "metadata": {
            "needs_background": "light"
          }
        }
      ]
    },
    {
      "cell_type": "markdown",
      "source": [
        "**1.5**"
      ],
      "metadata": {
        "id": "oMqph2C1ce4h"
      }
    },
    {
      "cell_type": "code",
      "source": [
        "mean_duration=df2.groupby('vendor_id')['trip_duration'].mean()\n",
        "print(mean_duration)\n",
        "\n",
        "dfgram = pd.DataFrame({'vendor':['1', '2'], 'mean duration':list(mean_duration)})\n",
        "ax = dfgram.plot.bar(x='vendor', y='mean duration', rot=0)"
      ],
      "metadata": {
        "id": "OdukdUGJcc3c",
        "colab": {
          "base_uri": "https://localhost:8080/",
          "height": 353
        },
        "outputId": "3550d245-a451-44af-f1d0-02bf7a217999"
      },
      "execution_count": null,
      "outputs": [
        {
          "output_type": "stream",
          "name": "stdout",
          "text": [
            "vendor_id\n",
            "1    818.961244\n",
            "2    829.535407\n",
            "Name: trip_duration, dtype: float64\n"
          ]
        },
        {
          "output_type": "display_data",
          "data": {
            "text/plain": [
              "<Figure size 432x288 with 1 Axes>"
            ],
            "image/png": "[encoded data removed]"
          },
          "metadata": {
            "needs_background": "light"
          }
        }
      ]
    },
    {
      "cell_type": "markdown",
      "metadata": {
        "id": "J8QyRa2O2xbr"
      },
      "source": [
        "**1.6**"
      ]
    },
    {
      "cell_type": "code",
      "execution_count": null,
      "metadata": {
        "id": "6PlmeUN42z5s",
        "colab": {
          "base_uri": "https://localhost:8080/",
          "height": 269
        },
        "outputId": "ccf6e994-a78f-4d03-b529-d304939d005f"
      },
      "outputs": [
        {
          "output_type": "execute_result",
          "data": {
            "text/plain": [
              "   passenger_count  trip_duration\n",
              "0                0     256.023256\n",
              "1                1     813.125371\n",
              "2                2     863.162575\n",
              "3                3     854.087507\n",
              "4                4     877.430226\n",
              "5                5     832.208717\n",
              "6                6     823.179864"
            ],
            "text/html": [
              "\n",
              "  <div id=\"df-2b1b9009-1a99-4c0f-a3f6-e546370f6e56\">\n",
              "    <div class=\"colab-df-container\">\n",
              "      <div>\n",
              "<style scoped>\n",
              "    .dataframe tbody tr th:only-of-type {\n",
              "        vertical-align: middle;\n",
              "    }\n",
              "\n",
              "    .dataframe tbody tr th {\n",
              "        vertical-align: top;\n",
              "    }\n",
              "\n",
              "    .dataframe thead th {\n",
              "        text-align: right;\n",
              "    }\n",
              "</style>\n",
              "<table border=\"1\" class=\"dataframe\">\n",
              "  <thead>\n",
              "    <tr style=\"text-align: right;\">\n",
              "      <th></th>\n",
              "      <th>passenger_count</th>\n",
              "      <th>trip_duration</th>\n",
              "    </tr>\n",
              "  </thead>\n",
              "  <tbody>\n",
              "    <tr>\n",
              "      <th>0</th>\n",
              "      <td>0</td>\n",
              "      <td>256.023256</td>\n",
              "    </tr>\n",
              "    <tr>\n",
              "      <th>1</th>\n",
              "      <td>1</td>\n",
              "      <td>813.125371</td>\n",
              "    </tr>\n",
              "    <tr>\n",
              "      <th>2</th>\n",
              "      <td>2</td>\n",
              "      <td>863.162575</td>\n",
              "    </tr>\n",
              "    <tr>\n",
              "      <th>3</th>\n",
              "      <td>3</td>\n",
              "      <td>854.087507</td>\n",
              "    </tr>\n",
              "    <tr>\n",
              "      <th>4</th>\n",
              "      <td>4</td>\n",
              "      <td>877.430226</td>\n",
              "    </tr>\n",
              "    <tr>\n",
              "      <th>5</th>\n",
              "      <td>5</td>\n",
              "      <td>832.208717</td>\n",
              "    </tr>\n",
              "    <tr>\n",
              "      <th>6</th>\n",
              "      <td>6</td>\n",
              "      <td>823.179864</td>\n",
              "    </tr>\n",
              "  </tbody>\n",
              "</table>\n",
              "</div>\n",
              "      <button class=\"colab-df-convert\" onclick=\"convertToInteractive('df-2b1b9009-1a99-4c0f-a3f6-e546370f6e56')\"\n",
              "              title=\"Convert this dataframe to an interactive table.\"\n",
              "              style=\"display:none;\">\n",
              "        \n",
              "  <svg xmlns=\"http://www.w3.org/2000/svg\" height=\"24px\"viewBox=\"0 0 24 24\"\n",
              "       width=\"24px\">\n",
              "    <path d=\"M0 0h24v24H0V0z\" fill=\"none\"/>\n",
              "    <path d=\"M18.56 5.44l.94 2.06.94-2.06 2.06-.94-2.06-.94-.94-2.06-.94 2.06-2.06.94zm-11 1L8.5 8.5l.94-2.06 2.06-.94-2.06-.94L8.5 2.5l-.94 2.06-2.06.94zm10 10l.94 2.06.94-2.06 2.06-.94-2.06-.94-.94-2.06-.94 2.06-2.06.94z\"/><path d=\"M17.41 7.96l-1.37-1.37c-.4-.4-.92-.59-1.43-.59-.52 0-1.04.2-1.43.59L10.3 9.45l-7.72 7.72c-.78.78-.78 2.05 0 2.83L4 21.41c.39.39.9.59 1.41.59.51 0 1.02-.2 1.41-.59l7.78-7.78 2.81-2.81c.8-.78.8-2.07 0-2.86zM5.41 20L4 18.59l7.72-7.72 1.47 1.35L5.41 20z\"/>\n",
              "  </svg>\n",
              "      </button>\n",
              "      \n",
              "  <style>\n",
              "    .colab-df-container {\n",
              "      display:flex;\n",
              "      flex-wrap:wrap;\n",
              "      gap: 12px;\n",
              "    }\n",
              "\n",
              "    .colab-df-convert {\n",
              "      background-color: #E8F0FE;\n",
              "      border: none;\n",
              "      border-radius: 50%;\n",
              "      cursor: pointer;\n",
              "      display: none;\n",
              "      fill: #1967D2;\n",
              "      height: 32px;\n",
              "      padding: 0 0 0 0;\n",
              "      width: 32px;\n",
              "    }\n",
              "\n",
              "    .colab-df-convert:hover {\n",
              "      background-color: #E2EBFA;\n",
              "      box-shadow: 0px 1px 2px rgba(60, 64, 67, 0.3), 0px 1px 3px 1px rgba(60, 64, 67, 0.15);\n",
              "      fill: #174EA6;\n",
              "    }\n",
              "\n",
              "    [theme=dark] .colab-df-convert {\n",
              "      background-color: #3B4455;\n",
              "      fill: #D2E3FC;\n",
              "    }\n",
              "\n",
              "    [theme=dark] .colab-df-convert:hover {\n",
              "      background-color: #434B5C;\n",
              "      box-shadow: 0px 1px 3px 1px rgba(0, 0, 0, 0.15);\n",
              "      filter: drop-shadow(0px 1px 2px rgba(0, 0, 0, 0.3));\n",
              "      fill: #FFFFFF;\n",
              "    }\n",
              "  </style>\n",
              "\n",
              "      <script>\n",
              "        const buttonEl =\n",
              "          document.querySelector('#df-2b1b9009-1a99-4c0f-a3f6-e546370f6e56 button.colab-df-convert');\n",
              "        buttonEl.style.display =\n",
              "          google.colab.kernel.accessAllowed ? 'block' : 'none';\n",
              "\n",
              "        async function convertToInteractive(key) {\n",
              "          const element = document.querySelector('#df-2b1b9009-1a99-4c0f-a3f6-e546370f6e56');\n",
              "          const dataTable =\n",
              "            await google.colab.kernel.invokeFunction('convertToInteractive',\n",
              "                                                     [key], {});\n",
              "          if (!dataTable) return;\n",
              "\n",
              "          const docLinkHtml = 'Like what you see? Visit the ' +\n",
              "            '<a target=\"_blank\" href=https://colab.research.google.com/notebooks/data_table.ipynb>data table notebook</a>'\n",
              "            + ' to learn more about interactive tables.';\n",
              "          element.innerHTML = '';\n",
              "          dataTable['output_type'] = 'display_data';\n",
              "          await google.colab.output.renderOutput(dataTable, element);\n",
              "          const docLink = document.createElement('div');\n",
              "          docLink.innerHTML = docLinkHtml;\n",
              "          element.appendChild(docLink);\n",
              "        }\n",
              "      </script>\n",
              "    </div>\n",
              "  </div>\n",
              "  "
            ]
          },
          "metadata": {},
          "execution_count": 21
        }
      ],
      "source": [
        "df3 = df_train.groupby('passenger_count', as_index=False)['trip_duration'].mean()\n",
        "df3"
      ]
    },
    {
      "cell_type": "markdown",
      "source": [
        "**ΠΑΡΑΤΗΡΗΣΕΙΣ:** Παρατηρούμε οτι όταν δεν υπάρχουν επιβάτες είναι μικρής διάρκειας τα ταξίδια .\n",
        "\n",
        "Από εκεί και πέρα δεν είναι μεγάλη η διαφορά της ύπαρξης λίγων ή πολλων επιβατών"
      ],
      "metadata": {
        "id": "xfGrdDpfNCNd"
      }
    },
    {
      "cell_type": "markdown",
      "source": [
        "**1.7**"
      ],
      "metadata": {
        "id": "YFiUsrulcwbR"
      }
    },
    {
      "cell_type": "code",
      "source": [
        "import numpy as np\n",
        "\n",
        "#######  train #####\n",
        "diff = abs(df_train[['pickup_longitude','pickup_latitude']].to_numpy()-df_train[['dropoff_longitude','dropoff_latitude']].to_numpy()) # absolute differences\n",
        "df_train['manhattan_distance'] = np.sum(diff,axis=1)    \n",
        "\n",
        "#test\n",
        "diff = abs(df_test[['pickup_longitude','pickup_latitude']].to_numpy()-df_test[['dropoff_longitude','dropoff_latitude']].to_numpy()) # absolute differences\n",
        "df_test['manhattan_distance'] = np.sum(diff,axis=1) "
      ],
      "metadata": {
        "id": "Zgenx5F1cyq-"
      },
      "execution_count": null,
      "outputs": []
    },
    {
      "cell_type": "code",
      "source": [
        "groupby_pc=df_train.groupby(\"pickup_day_name\") # bale 'day' \n",
        "mean_distance=groupby_pc['manhattan_distance'].mean()\n",
        "print(mean_distance)\n",
        "\n",
        "dfgram17 = pd.DataFrame({'pickup_day_name':list(groupby_pc.groups.keys()), 'mean distance':list(mean_distance)})\n",
        "ax17 = dfgram17.plot.bar(x='pickup_day_name', y='mean distance', rot=0)"
      ],
      "metadata": {
        "id": "8PShOXMYc1Lk",
        "colab": {
          "base_uri": "https://localhost:8080/",
          "height": 446
        },
        "outputId": "6eb2da28-3834-4dd9-b901-9459e3bab085"
      },
      "execution_count": null,
      "outputs": [
        {
          "output_type": "stream",
          "name": "stdout",
          "text": [
            "pickup_day_name\n",
            "Friday       0.043481\n",
            "Monday       0.045953\n",
            "Saturday     0.042381\n",
            "Sunday       0.047403\n",
            "Thursday     0.043670\n",
            "Tuesday      0.042844\n",
            "Wednesday    0.042846\n",
            "Name: manhattan_distance, dtype: float64\n"
          ]
        },
        {
          "output_type": "display_data",
          "data": {
            "text/plain": [
              "<Figure size 432x288 with 1 Axes>"
            ],
            "image/png": "[encoded data removed]"
          },
          "metadata": {
            "needs_background": "light"
          }
        }
      ]
    },
    {
      "cell_type": "code",
      "source": [
        "import matplotlib.pyplot as plt\n",
        "\n",
        "\n",
        "distance_x=df_train['manhattan_distance']\n",
        "duration_y=df_train['trip_duration']\n",
        "\n",
        "fig, ax = plt.subplots()\n",
        "#plt.scatter(distance_x ='distance', duration_y='duration' , c =\"purple\")\n",
        "ax.scatter(distance_x , duration_y, c =\"purple\", alpha=0.2)\n",
        "ax.set_xlabel('distance')\n",
        "ax.set_ylabel('duration')"
      ],
      "metadata": {
        "id": "Gp3AAsU4deV6",
        "colab": {
          "base_uri": "https://localhost:8080/",
          "height": 299
        },
        "outputId": "634026f9-2096-43cc-b6a8-707bbde1a426"
      },
      "execution_count": null,
      "outputs": [
        {
          "output_type": "execute_result",
          "data": {
            "text/plain": [
              "Text(0, 0.5, 'duration')"
            ]
          },
          "metadata": {},
          "execution_count": 24
        },
        {
          "output_type": "display_data",
          "data": {
            "text/plain": [
              "<Figure size 432x288 with 1 Axes>"
            ],
            "image/png": "[encoded data removed]"
          },
          "metadata": {
            "needs_background": "light"
          }
        }
      ]
    },
    {
      "cell_type": "markdown",
      "metadata": {
        "id": "Upid5_kw3_H_"
      },
      "source": [
        "**1.8**"
      ]
    },
    {
      "cell_type": "code",
      "execution_count": null,
      "metadata": {
        "id": "9g310tFmm5VZ",
        "colab": {
          "base_uri": "https://localhost:8080/",
          "height": 984
        },
        "outputId": "b2eb5fac-82f9-4ae8-eada-0b0bcda3e530"
      },
      "outputs": [
        {
          "output_type": "stream",
          "name": "stdout",
          "text": [
            "Mean velocity is:\n",
            "0.5723040376475034\n"
          ]
        },
        {
          "output_type": "execute_result",
          "data": {
            "text/plain": [
              "      pickup_hour  velocity\n",
              "0        00:00:00  0.317307\n",
              "1        00:00:01  0.320922\n",
              "2        00:00:02  0.449860\n",
              "3        00:00:03  0.556855\n",
              "4        00:00:04  0.475163\n",
              "...           ...       ...\n",
              "86001    23:59:55  0.337872\n",
              "86002    23:59:56  0.566745\n",
              "86003    23:59:57  0.442074\n",
              "86004    23:59:58  0.462924\n",
              "86005    23:59:59  0.448496\n",
              "\n",
              "[86006 rows x 2 columns]"
            ],
            "text/html": [
              "\n",
              "  <div id=\"df-753acac7-ef94-472b-b6d7-3af1f3ac9277\">\n",
              "    <div class=\"colab-df-container\">\n",
              "      <div>\n",
              "<style scoped>\n",
              "    .dataframe tbody tr th:only-of-type {\n",
              "        vertical-align: middle;\n",
              "    }\n",
              "\n",
              "    .dataframe tbody tr th {\n",
              "        vertical-align: top;\n",
              "    }\n",
              "\n",
              "    .dataframe thead th {\n",
              "        text-align: right;\n",
              "    }\n",
              "</style>\n",
              "<table border=\"1\" class=\"dataframe\">\n",
              "  <thead>\n",
              "    <tr style=\"text-align: right;\">\n",
              "      <th></th>\n",
              "      <th>pickup_hour</th>\n",
              "      <th>velocity</th>\n",
              "    </tr>\n",
              "  </thead>\n",
              "  <tbody>\n",
              "    <tr>\n",
              "      <th>0</th>\n",
              "      <td>00:00:00</td>\n",
              "      <td>0.317307</td>\n",
              "    </tr>\n",
              "    <tr>\n",
              "      <th>1</th>\n",
              "      <td>00:00:01</td>\n",
              "      <td>0.320922</td>\n",
              "    </tr>\n",
              "    <tr>\n",
              "      <th>2</th>\n",
              "      <td>00:00:02</td>\n",
              "      <td>0.449860</td>\n",
              "    </tr>\n",
              "    <tr>\n",
              "      <th>3</th>\n",
              "      <td>00:00:03</td>\n",
              "      <td>0.556855</td>\n",
              "    </tr>\n",
              "    <tr>\n",
              "      <th>4</th>\n",
              "      <td>00:00:04</td>\n",
              "      <td>0.475163</td>\n",
              "    </tr>\n",
              "    <tr>\n",
              "      <th>...</th>\n",
              "      <td>...</td>\n",
              "      <td>...</td>\n",
              "    </tr>\n",
              "    <tr>\n",
              "      <th>86001</th>\n",
              "      <td>23:59:55</td>\n",
              "      <td>0.337872</td>\n",
              "    </tr>\n",
              "    <tr>\n",
              "      <th>86002</th>\n",
              "      <td>23:59:56</td>\n",
              "      <td>0.566745</td>\n",
              "    </tr>\n",
              "    <tr>\n",
              "      <th>86003</th>\n",
              "      <td>23:59:57</td>\n",
              "      <td>0.442074</td>\n",
              "    </tr>\n",
              "    <tr>\n",
              "      <th>86004</th>\n",
              "      <td>23:59:58</td>\n",
              "      <td>0.462924</td>\n",
              "    </tr>\n",
              "    <tr>\n",
              "      <th>86005</th>\n",
              "      <td>23:59:59</td>\n",
              "      <td>0.448496</td>\n",
              "    </tr>\n",
              "  </tbody>\n",
              "</table>\n",
              "<p>86006 rows × 2 columns</p>\n",
              "</div>\n",
              "      <button class=\"colab-df-convert\" onclick=\"convertToInteractive('df-753acac7-ef94-472b-b6d7-3af1f3ac9277')\"\n",
              "              title=\"Convert this dataframe to an interactive table.\"\n",
              "              style=\"display:none;\">\n",
              "        \n",
              "  <svg xmlns=\"http://www.w3.org/2000/svg\" height=\"24px\"viewBox=\"0 0 24 24\"\n",
              "       width=\"24px\">\n",
              "    <path d=\"M0 0h24v24H0V0z\" fill=\"none\"/>\n",
              "    <path d=\"M18.56 5.44l.94 2.06.94-2.06 2.06-.94-2.06-.94-.94-2.06-.94 2.06-2.06.94zm-11 1L8.5 8.5l.94-2.06 2.06-.94-2.06-.94L8.5 2.5l-.94 2.06-2.06.94zm10 10l.94 2.06.94-2.06 2.06-.94-2.06-.94-.94-2.06-.94 2.06-2.06.94z\"/><path d=\"M17.41 7.96l-1.37-1.37c-.4-.4-.92-.59-1.43-.59-.52 0-1.04.2-1.43.59L10.3 9.45l-7.72 7.72c-.78.78-.78 2.05 0 2.83L4 21.41c.39.39.9.59 1.41.59.51 0 1.02-.2 1.41-.59l7.78-7.78 2.81-2.81c.8-.78.8-2.07 0-2.86zM5.41 20L4 18.59l7.72-7.72 1.47 1.35L5.41 20z\"/>\n",
              "  </svg>\n",
              "      </button>\n",
              "      \n",
              "  <style>\n",
              "    .colab-df-container {\n",
              "      display:flex;\n",
              "      flex-wrap:wrap;\n",
              "      gap: 12px;\n",
              "    }\n",
              "\n",
              "    .colab-df-convert {\n",
              "      background-color: #E8F0FE;\n",
              "      border: none;\n",
              "      border-radius: 50%;\n",
              "      cursor: pointer;\n",
              "      display: none;\n",
              "      fill: #1967D2;\n",
              "      height: 32px;\n",
              "      padding: 0 0 0 0;\n",
              "      width: 32px;\n",
              "    }\n",
              "\n",
              "    .colab-df-convert:hover {\n",
              "      background-color: #E2EBFA;\n",
              "      box-shadow: 0px 1px 2px rgba(60, 64, 67, 0.3), 0px 1px 3px 1px rgba(60, 64, 67, 0.15);\n",
              "      fill: #174EA6;\n",
              "    }\n",
              "\n",
              "    [theme=dark] .colab-df-convert {\n",
              "      background-color: #3B4455;\n",
              "      fill: #D2E3FC;\n",
              "    }\n",
              "\n",
              "    [theme=dark] .colab-df-convert:hover {\n",
              "      background-color: #434B5C;\n",
              "      box-shadow: 0px 1px 3px 1px rgba(0, 0, 0, 0.15);\n",
              "      filter: drop-shadow(0px 1px 2px rgba(0, 0, 0, 0.3));\n",
              "      fill: #FFFFFF;\n",
              "    }\n",
              "  </style>\n",
              "\n",
              "      <script>\n",
              "        const buttonEl =\n",
              "          document.querySelector('#df-753acac7-ef94-472b-b6d7-3af1f3ac9277 button.colab-df-convert');\n",
              "        buttonEl.style.display =\n",
              "          google.colab.kernel.accessAllowed ? 'block' : 'none';\n",
              "\n",
              "        async function convertToInteractive(key) {\n",
              "          const element = document.querySelector('#df-753acac7-ef94-472b-b6d7-3af1f3ac9277');\n",
              "          const dataTable =\n",
              "            await google.colab.kernel.invokeFunction('convertToInteractive',\n",
              "                                                     [key], {});\n",
              "          if (!dataTable) return;\n",
              "\n",
              "          const docLinkHtml = 'Like what you see? Visit the ' +\n",
              "            '<a target=\"_blank\" href=https://colab.research.google.com/notebooks/data_table.ipynb>data table notebook</a>'\n",
              "            + ' to learn more about interactive tables.';\n",
              "          element.innerHTML = '';\n",
              "          dataTable['output_type'] = 'display_data';\n",
              "          await google.colab.output.renderOutput(dataTable, element);\n",
              "          const docLink = document.createElement('div');\n",
              "          docLink.innerHTML = docLinkHtml;\n",
              "          element.appendChild(docLink);\n",
              "        }\n",
              "      </script>\n",
              "    </div>\n",
              "  </div>\n",
              "  "
            ]
          },
          "metadata": {},
          "execution_count": 84
        },
        {
          "output_type": "display_data",
          "data": {
            "text/plain": [
              "<Figure size 432x288 with 1 Axes>"
            ],
            "image/png": "[encoded data removed]"
          },
          "metadata": {
            "needs_background": "light"
          }
        },
        {
          "output_type": "display_data",
          "data": {
            "text/plain": [
              "<Figure size 432x288 with 1 Axes>"
            ],
            "image/png": "[encoded data removed]"
          },
          "metadata": {
            "needs_background": "light"
          }
        }
      ],
      "source": [
        "import seaborn as sns\n",
        "\n",
        "diff = (df_train[['pickup_longitude','dropoff_longitude']].to_numpy()-df_train[['pickup_latitude','dropoff_latitude']].to_numpy())\n",
        "df_train['dist'] = np.abs((diff).sum(+1))\n",
        "\n",
        "\n",
        "df_train[\"velocity\"] = df_train[\"dist\"]/df_train[\"trip_duration\"]\n",
        "mean_velocity = df_train[\"velocity\"].mean()\n",
        "\n",
        "print(\"Mean velocity is:\")\n",
        "print(mean_velocity)\n",
        "\n",
        "df4 = df_train.groupby('pickup_month', as_index=False)['velocity'].mean()\n",
        "df5 = df_train.groupby('pickup_hour', as_index=False)['velocity'].mean()\n",
        "df6 = df_train.groupby('pickup_day_name', as_index=False)['velocity'].mean()\n",
        "\n",
        "\n",
        "dfgram4 = pd.DataFrame({'pickup_month':df4['pickup_month'], 'mean velocity':df4[\"velocity\"]})\n",
        "ax4 = dfgram4.plot.bar(x='pickup_month', y='mean velocity', rot=0)\n",
        "\n",
        "#dfgram5 = pd.DataFrame({'pickup_hour':df5['pickup_hour'], 'mean velocity':df5[\"velocity\"]})\n",
        "#ax5 = dfgram5.plot.bar(x='pickup_hour', y='mean velocity', rot=0)\n",
        "\n",
        "dfgram6 = pd.DataFrame({'pickup_day':df6['pickup_day_name'], 'mean velocity':df6[\"velocity\"]})\n",
        "ax6 = dfgram6.plot.bar(x='pickup_day', y='mean velocity', rot=0)\n",
        "\n",
        "\n",
        "df4\n",
        "df5"
      ]
    },
    {
      "cell_type": "markdown",
      "source": [
        "**1.9**\n",
        "\n",
        "\n"
      ],
      "metadata": {
        "id": "1pMVyxpGdl83"
      }
    },
    {
      "cell_type": "code",
      "source": [
        "#PICKUP\n",
        "pickup_x=df_train['pickup_longitude']\n",
        "pickup_y=df_train['pickup_latitude']\n",
        "\n",
        "plt.scatter(pickup_x, pickup_y, c =\"blue\", alpha=0.25)\n"
      ],
      "metadata": {
        "id": "w3W3pW0zeapy",
        "colab": {
          "base_uri": "https://localhost:8080/",
          "height": 283
        },
        "outputId": "a921f6c7-8801-451e-b88b-0b37becb66dc"
      },
      "execution_count": null,
      "outputs": [
        {
          "output_type": "execute_result",
          "data": {
            "text/plain": [
              "<matplotlib.collections.PathCollection at 0x7fc397d75290>"
            ]
          },
          "metadata": {},
          "execution_count": 26
        },
        {
          "output_type": "display_data",
          "data": {
            "text/plain": [
              "<Figure size 432x288 with 1 Axes>"
            ],
            "image/png": "[encoded data removed]"
          },
          "metadata": {
            "needs_background": "light"
          }
        }
      ]
    },
    {
      "cell_type": "code",
      "source": [
        "#DROPOFF\n",
        "\n",
        "dropoff_x=df_train['dropoff_longitude']\n",
        "dropoff_y=df_train['dropoff_latitude']\n",
        "\n",
        "plt.scatter(dropoff_x, dropoff_y, c =\"green\", alpha=0.25)"
      ],
      "metadata": {
        "id": "0ppxDa4PefOR",
        "colab": {
          "base_uri": "https://localhost:8080/",
          "height": 283
        },
        "outputId": "11d614c4-9dcb-4404-ce18-25d01cf8ec96"
      },
      "execution_count": null,
      "outputs": [
        {
          "output_type": "execute_result",
          "data": {
            "text/plain": [
              "<matplotlib.collections.PathCollection at 0x7fc38c717f50>"
            ]
          },
          "metadata": {},
          "execution_count": 27
        },
        {
          "output_type": "display_data",
          "data": {
            "text/plain": [
              "<Figure size 432x288 with 1 Axes>"
            ],
            "image/png": "[encoded data removed]"
          },
          "metadata": {
            "needs_background": "light"
          }
        }
      ]
    },
    {
      "cell_type": "markdown",
      "metadata": {
        "id": "uXiHyR5_R2fg"
      },
      "source": [
        "**2.1**"
      ]
    },
    {
      "cell_type": "code",
      "source": [
        "\n",
        "\n",
        "dftime=df_train.head(1000)  "
      ],
      "metadata": {
        "id": "02g2L090e1PA"
      },
      "execution_count": null,
      "outputs": []
    },
    {
      "cell_type": "code",
      "execution_count": null,
      "metadata": {
        "id": "yBKyAxjwR4my",
        "colab": {
          "base_uri": "https://localhost:8080/",
          "height": 295
        },
        "outputId": "1defe997-9dd3-4d44-df5e-0c34c3f4179f"
      },
      "outputs": [
        {
          "output_type": "display_data",
          "data": {
            "text/plain": [
              "<Figure size 432x288 with 1 Axes>"
            ],
            "image/png": "[encoded data removed]"
          },
          "metadata": {
            "needs_background": "light"
          }
        }
      ],
      "source": [
        "## for data\n",
        "import numpy as np\n",
        "import pandas as pd\n",
        "## for plotting\n",
        "import matplotlib.pyplot as plt\n",
        "import seaborn as sns\n",
        "## for geospatial\n",
        "import folium\n",
        "import geopy\n",
        "## for machine learning\n",
        "from sklearn import preprocessing, cluster\n",
        "import scipy\n",
        "## for deep learning\n",
        "#import minisom\n",
        "\n",
        "\n",
        "X = dftime[[\"pickup_latitude\",\"pickup_longitude\"]]\n",
        "max_k = 10\n",
        "## iterations\n",
        "distortions = [] \n",
        "for i in range(1, max_k+1):\n",
        "    if len(X) >= i:\n",
        "       model = cluster.KMeans(n_clusters=i, init='k-means++', max_iter=300, n_init=10, random_state=0)\n",
        "       model.fit(X)\n",
        "       distortions.append(model.inertia_)\n",
        "## best k: the lowest derivative\n",
        "k = [i*100 for i in np.diff(distortions,2)].index(min([i*100 for i \n",
        "     in np.diff(distortions,2)]))\n",
        "## plot\n",
        "fig, ax = plt.subplots()\n",
        "ax.plot(range(1, len(distortions)+1), distortions)\n",
        "ax.axvline(k, ls='--', color=\"red\", label=\"k = \"+str(k))\n",
        "ax.set(title='The Elbow Method', xlabel='Number of clusters', \n",
        "       ylabel=\"Distortion\")\n",
        "ax.legend()\n",
        "ax.grid(True)\n",
        "plt.show()"
      ]
    },
    {
      "cell_type": "code",
      "execution_count": null,
      "metadata": {
        "id": "CKz0t91xWrRF",
        "colab": {
          "base_uri": "https://localhost:8080/"
        },
        "outputId": "0061818e-f93e-4874-b367-289930d5dee3"
      },
      "outputs": [
        {
          "output_type": "stream",
          "name": "stderr",
          "text": [
            "/usr/local/lib/python3.7/dist-packages/pandas/core/indexing.py:1732: SettingWithCopyWarning: \n",
            "A value is trying to be set on a copy of a slice from a DataFrame\n",
            "\n",
            "See the caveats in the documentation: https://pandas.pydata.org/pandas-docs/stable/user_guide/indexing.html#returning-a-view-versus-a-copy\n",
            "  self._setitem_single_block(indexer, value, name)\n",
            "/usr/local/lib/python3.7/dist-packages/pandas/core/frame.py:3641: SettingWithCopyWarning: \n",
            "A value is trying to be set on a copy of a slice from a DataFrame.\n",
            "Try using .loc[row_indexer,col_indexer] = value instead\n",
            "\n",
            "See the caveats in the documentation: https://pandas.pydata.org/pandas-docs/stable/user_guide/indexing.html#returning-a-view-versus-a-copy\n",
            "  self[k1] = value[k2]\n"
          ]
        }
      ],
      "source": [
        "k = 7\n",
        "model = cluster.KMeans(n_clusters=k, init='k-means++')\n",
        "X = dftime[[\"pickup_latitude\",\"pickup_longitude\"]]\n",
        "## clustering\n",
        "dtf_X = X.copy()\n",
        "dtf_X[\"cluster\"] = model.fit_predict(X)\n",
        "## find real centroids\n",
        "closest, distances = scipy.cluster.vq.vq(model.cluster_centers_, \n",
        "                     dtf_X.drop(\"cluster\", axis=1).values)\n",
        "dtf_X[\"centroids\"] = 0\n",
        "for i in closest:\n",
        "    dtf_X[\"centroids\"].iloc[i] = 1\n",
        "## add clustering info to the original dataset\n",
        "dftime[[\"cluster\",\"centroids\"]] = dtf_X[[\"cluster\",\"centroids\"]]\n",
        "#dftime.sample(5)"
      ]
    },
    {
      "cell_type": "code",
      "execution_count": null,
      "metadata": {
        "id": "ca3jMCmaXMwk",
        "colab": {
          "base_uri": "https://localhost:8080/",
          "height": 314
        },
        "outputId": "a9aa0908-cbee-4f5f-9588-4b787e77646b"
      },
      "outputs": [
        {
          "output_type": "execute_result",
          "data": {
            "text/plain": [
              "<matplotlib.collections.PathCollection at 0x7fc37caf2ad0>"
            ]
          },
          "metadata": {},
          "execution_count": 31
        },
        {
          "output_type": "display_data",
          "data": {
            "text/plain": [
              "<Figure size 432x288 with 1 Axes>"
            ],
            "image/png": "[encoded data removed]"
          },
          "metadata": {
            "needs_background": "light"
          }
        }
      ],
      "source": [
        "## plot\n",
        "fig, ax = plt.subplots()\n",
        "sns.scatterplot(x=\"pickup_latitude\", y=\"pickup_longitude\", data=dftime, palette=sns.color_palette(\"bright\",k), hue='cluster', size=\"centroids\", size_order=[1,0], legend=\"brief\", ax=ax).set_title('Clustering (k='+str(k)+')')\n",
        "th_centroids = model.cluster_centers_\n",
        "ax.scatter(th_centroids[:,0], th_centroids[:,1], s=50, c='black', \n",
        "           marker=\"x\")"
      ]
    },
    {
      "cell_type": "markdown",
      "metadata": {
        "id": "39IuBPTAZHuM"
      },
      "source": [
        "**2.2**"
      ]
    },
    {
      "cell_type": "code",
      "execution_count": null,
      "metadata": {
        "id": "VA95stLXZJ9O"
      },
      "outputs": [],
      "source": [
        "dftime\n",
        "X = dftime[['pickup_latitude', 'pickup_longitude']]\n",
        "Y = dftime['log_trip_duration']\n",
        "\n",
        "x=dftime['pickup_latitude']\n",
        "y=dftime['pickup_longitude']\n",
        "z=dftime['log_trip_duration']\n",
        "\n",
        "\n"
      ]
    },
    {
      "cell_type": "code",
      "execution_count": null,
      "metadata": {
        "id": "waBtcslTr37B",
        "colab": {
          "base_uri": "https://localhost:8080/"
        },
        "outputId": "72596643-55c8-4e33-ca25-636ddc1df23f"
      },
      "outputs": [
        {
          "output_type": "execute_result",
          "data": {
            "text/plain": [
              "RandomForestRegressor(max_depth=2, random_state=1)"
            ]
          },
          "metadata": {},
          "execution_count": 47
        }
      ],
      "source": [
        "from sklearn.ensemble import RandomForestRegressor\n",
        "\n",
        "dftime1 = dftime.head(1000)\n",
        "X = dftime1[['pickup_latitude', 'pickup_longitude']] #Two-dimensional (pd DataFrame)\n",
        "Y = dftime1['log_trip_duration'] #One-dimensional (pd Series)\n",
        "\n",
        "#Create an object (model)\n",
        "rf = RandomForestRegressor(n_estimators=100, max_depth=2,\n",
        "                           min_samples_split=2, random_state=1)\n",
        "\n",
        "#Fit (train) the model\n",
        "rf.fit(X, Y)"
      ]
    },
    {
      "cell_type": "code",
      "execution_count": null,
      "metadata": {
        "id": "FlbafUw1tBYy",
        "colab": {
          "base_uri": "https://localhost:8080/",
          "height": 36
        },
        "outputId": "ac569e87-d000-4abb-c197-0d544f0069f9"
      },
      "outputs": [
        {
          "output_type": "execute_result",
          "data": {
            "text/plain": [
              "'tree.png'"
            ],
            "application/vnd.google.colaboratory.intrinsic+json": {
              "type": "string"
            }
          },
          "metadata": {},
          "execution_count": 34
        }
      ],
      "source": [
        "#rf.estimators_[index]\n",
        "#rf.estimators_[0] #First tree\n",
        "\n",
        "from sklearn.tree import export_graphviz\n",
        "import graphviz\n",
        "\n",
        "dot_data = export_graphviz(rf.estimators_[0], feature_names=['Latitude', 'Longitude'],  \n",
        "                           filled=True, rounded=True)  \n",
        "\n",
        "graph = graphviz.Source(dot_data, format='png')\n",
        "graph.render(\"tree\") \n",
        "\n"
      ]
    },
    {
      "cell_type": "code",
      "execution_count": null,
      "metadata": {
        "id": "yYLQmZ8mtbnX",
        "colab": {
          "base_uri": "https://localhost:8080/"
        },
        "outputId": "0f1d7670-6cb5-4969-fdc0-4014084b7ac9"
      },
      "outputs": [
        {
          "output_type": "stream",
          "name": "stdout",
          "text": [
            "{'min_samples_split': 2, 'max_depth': 4}\n",
            "1.1881170070010665\n"
          ]
        }
      ],
      "source": [
        "from sklearn.model_selection import train_test_split\n",
        "\n",
        "X_train, X_test, y_train, y_test = train_test_split(X, Y, test_size=0.10,\n",
        "                                                    random_state=2,\n",
        "                                                    shuffle=True)\n",
        "\n",
        "from sklearn.model_selection import RandomizedSearchCV\n",
        "\n",
        "model = RandomForestRegressor()\n",
        "\n",
        "rs = RandomizedSearchCV(model, n_iter=10,\n",
        "                        param_distributions = {'max_depth': range(1, 15),\n",
        "                                               'min_samples_split': range(2, 50)},\n",
        "                        cv=5, n_jobs=-1, random_state=3,\n",
        "                        scoring='neg_mean_squared_error')\n",
        "\n",
        "rs.fit(X_train, y_train)\n",
        "\n",
        "print(rs.best_params_)\n",
        "print(-rs.best_score_)"
      ]
    },
    {
      "cell_type": "code",
      "execution_count": null,
      "metadata": {
        "id": "b7GZ3yvi_mLC",
        "colab": {
          "base_uri": "https://localhost:8080/"
        },
        "outputId": "08b7ef2f-ea4b-45df-bc9c-ca262ce64146"
      },
      "outputs": [
        {
          "output_type": "execute_result",
          "data": {
            "text/plain": [
              "RandomForestRegressor(max_depth=12, min_samples_split=13, random_state=1)"
            ]
          },
          "metadata": {},
          "execution_count": 38
        }
      ],
      "source": [
        "#Import the class\n",
        "from sklearn.ensemble import RandomForestRegressor\n",
        "\n",
        "X = dftime1[['pickup_latitude', 'pickup_longitude']] #Two-dimensional (pd DataFrame)\n",
        "Y = dftime1['log_trip_duration'] #One-dimensional (pd Series)\n",
        "\n",
        "#Create an object (model)\n",
        "rf = RandomForestRegressor(n_estimators=100, max_depth=12,\n",
        "                           min_samples_split=13, random_state=1)\n",
        "\n",
        "#Fit (train) the model\n",
        "rf.fit(X, Y)"
      ]
    },
    {
      "cell_type": "code",
      "execution_count": null,
      "metadata": {
        "id": "7qs-arK2AeBN",
        "colab": {
          "base_uri": "https://localhost:8080/"
        },
        "outputId": "f864f47f-bd99-4ba0-819d-e2251e9dcd5b"
      },
      "outputs": [
        {
          "output_type": "execute_result",
          "data": {
            "text/plain": [
              "RandomForestRegressor(max_depth=12, min_samples_split=13, random_state=1)"
            ]
          },
          "metadata": {},
          "execution_count": 39
        }
      ],
      "source": [
        "\n",
        "#Import the class\n",
        "from sklearn.ensemble import RandomForestRegressor\n",
        "\n",
        "X = dftime1[['vendor_id', 'passenger_count','pickup_longitude', 'pickup_latitude', 'dropoff_longitude', 'dropoff_latitude']] #Two-dimensional (pd DataFrame)\n",
        "\n",
        "\n",
        "Y = dftime1['log_trip_duration'] #One-dimensional (pd Series)\n",
        "\n",
        "#Create an object (model)\n",
        "rf = RandomForestRegressor(n_estimators=100, max_depth=12,\n",
        "                           min_samples_split=13, random_state=1)\n",
        "\n",
        "#Fit (train) the model\n",
        "rf.fit(X, Y)"
      ]
    },
    {
      "cell_type": "code",
      "execution_count": null,
      "metadata": {
        "id": "I5hXwWy2CCW6",
        "colab": {
          "base_uri": "https://localhost:8080/",
          "height": 414
        },
        "outputId": "dc0d6cbf-b8f1-4f41-8dcd-8970846e490a"
      },
      "outputs": [
        {
          "output_type": "display_data",
          "data": {
            "text/plain": [
              "<Figure size 576x432 with 1 Axes>"
            ],
            "image/png": "[encoded data removed]"
          },
          "metadata": {
            "needs_background": "light"
          }
        }
      ],
      "source": [
        "fig = plt.figure(figsize=(8, 6))\n",
        "\n",
        "feature_imp = pd.Series(rf.feature_importances_, \n",
        "                        index=['vendor_id', 'passenger_count','pickup_longitude', 'pickup_latitude', 'dropoff_longitude', 'dropoff_latitude']).sort_values(ascending=False)\n",
        "\n",
        "sns.barplot(x=feature_imp, y=feature_imp.index)\n",
        "plt.xlabel('Feature Importance Score')\n",
        "plt.ylabel('Features')\n",
        "plt.title(\"Visualizing Important Features\", pad=15, size=14)\n",
        "plt.savefig('Barplot.png')"
      ]
    },
    {
      "cell_type": "markdown",
      "source": [
        "**2.3**"
      ],
      "metadata": {
        "id": "y-8FI_zsgwx-"
      }
    },
    {
      "cell_type": "markdown",
      "source": [
        "2.3 - Πρώτη δοκιμή\n",
        "\n",
        "-δοκιμάζουμε **ΛΙΓΕΣ ΕΠΙΛΟΓΕΣ ΣΤΙΣ ΠΑΡΑΜΕΤΡΟΥΣ** σε dataframe με **1000γραμμες**"
      ],
      "metadata": {
        "id": "HV_OcG2vhLUV"
      }
    },
    {
      "cell_type": "code",
      "source": [
        "X1= dftime1[['vendor_id', 'passenger_count','pickup_longitude', 'pickup_latitude', 'dropoff_longitude', 'dropoff_latitude']] #Two-dimensional (pd DataFrame)\n",
        "Y1 = dftime1['log_trip_duration'] #One-dimensional (pd Series)\n",
        "\n",
        "from sklearn.model_selection import GridSearchCV"
      ],
      "metadata": {
        "id": "4cyVUdICieby"
      },
      "execution_count": null,
      "outputs": []
    },
    {
      "cell_type": "code",
      "source": [
        "\n",
        "#from sklearn.model_selection import GridSearchCV\n",
        "\n",
        "parameters1 = {'n_estimators':range(50,150,20), 'max_depth': range(5, 10),'min_samples_split': range(10, 15)}\n",
        "\n",
        "GS1 = GridSearchCV(RandomForestRegressor(), parameters1)\n",
        "GS1.fit(X1, Y1)\n",
        "print(GS1.best_params_)"
      ],
      "metadata": {
        "id": "3iScnSyRgxoh",
        "colab": {
          "base_uri": "https://localhost:8080/"
        },
        "outputId": "e626121c-303e-461e-dcba-cd3adbd050a9"
      },
      "execution_count": null,
      "outputs": [
        {
          "output_type": "stream",
          "name": "stdout",
          "text": [
            "{'max_depth': 9, 'min_samples_split': 13, 'n_estimators': 50}\n"
          ]
        }
      ]
    },
    {
      "cell_type": "markdown",
      "source": [
        "2.3 - ΔΕΥΤΕΡΗ ΔΟΚΙΜΗ \n",
        "\n",
        "-**ΠΕΡΙΣΣΟΤΕΡΕΣ ΕΠΙΛΟΓΕΣ ΣΤΙΣ ΠΑΡΑΜΕΤΡΟΥΣ** σε dataframe με **100 γραμμες**"
      ],
      "metadata": {
        "id": "Z7p_oBhqKbl1"
      }
    },
    {
      "cell_type": "code",
      "source": [
        "dftime2=df_train.head(100)\n",
        "\n",
        "X2 = dftime2[['vendor_id', 'passenger_count','pickup_longitude', 'pickup_latitude', 'dropoff_longitude', 'dropoff_latitude']] #Two-dimensional (pd DataFrame)\n",
        "Y2 = dftime2['log_trip_duration'] #One-dimensional (pd Series)\n"
      ],
      "metadata": {
        "id": "E93SgOMCh4bs"
      },
      "execution_count": null,
      "outputs": []
    },
    {
      "cell_type": "code",
      "source": [
        "parameters2 = {'n_estimators':range(5,150,5), 'max_depth': range(1, 15),'min_samples_split': range(2, 50)} \n",
        "\n",
        "GS2 = GridSearchCV(RandomForestRegressor(), parameters2)\n",
        "GS2.fit(X2, Y2)\n",
        "print(GS2.best_params_)"
      ],
      "metadata": {
        "id": "lXDW8s3Vi64m",
        "colab": {
          "base_uri": "https://localhost:8080/"
        },
        "outputId": "5b20f258-8b69-4955-8e64-5063ed278ac9"
      },
      "execution_count": null,
      "outputs": [
        {
          "output_type": "stream",
          "name": "stdout",
          "text": [
            "{'max_depth': 5, 'min_samples_split': 2, 'n_estimators': 10}\n"
          ]
        }
      ]
    },
    {
      "cell_type": "markdown",
      "source": [
        "2.3 - ΤΕΛΙΚΗ ΔΟΚΙΜΗ \n",
        "\n",
        "-**ΠΟΛΛΕΣ ΕΠΙΛΟΓΕΣ ΣΤΙΣ ΠΑΡΑΜΕΤΡΟΥΣ** και **ΠΟΛΛΕΣ ΓΡΑΜΜΕΣ** (1000)"
      ],
      "metadata": {
        "id": "c-NMZuYVkYOg"
      }
    },
    {
      "cell_type": "code",
      "source": [
        "X= dftime1[['vendor_id', 'passenger_count','pickup_longitude', 'pickup_latitude', 'dropoff_longitude', 'dropoff_latitude']] #Two-dimensional (pd DataFrame)\n",
        "Y = dftime1['log_trip_duration'] #One-dimensional (pd Series)"
      ],
      "metadata": {
        "id": "hiGPtBZsj-f7"
      },
      "execution_count": null,
      "outputs": []
    },
    {
      "cell_type": "code",
      "source": [
        "# ΑΠΛΑ ΑΛΛΑΖΟΥΜΕ ΤΟ X KAI Y ΓΙΑ ΝΑ ΠΕΡΙΕΧΟΥΝ ΠΕΡΙΣΣΟΤΕΡΕΣ ΓΡΑΜΜΕΣ\n",
        "parameters = {'n_estimators':range(5,150,5), 'max_depth': range(1, 15),'min_samples_split': range(2, 20)} \n",
        "\n",
        "GS = GridSearchCV(RandomForestRegressor(), parameters)\n",
        "GS.fit(X, Y)  \n",
        "print(GS.best_params_)"
      ],
      "metadata": {
        "id": "EfPpvjKujtPR",
        "colab": {
          "base_uri": "https://localhost:8080/"
        },
        "outputId": "46da668d-a078-407b-e204-ef7c7ce6298d"
      },
      "execution_count": null,
      "outputs": [
        {
          "output_type": "stream",
          "name": "stdout",
          "text": [
            "{'max_depth': 14, 'min_samples_split': 2, 'n_estimators': 55}\n"
          ]
        }
      ]
    },
    {
      "cell_type": "markdown",
      "source": [
        "**2.4**"
      ],
      "metadata": {
        "id": "Bf4hErm1rknm"
      }
    },
    {
      "cell_type": "code",
      "source": [
        "best_params_={'max_depth':14,'min_samples_split':2,'n_estimators':55}  # επιλεγουμε το αποτέλεσμα της τελικής(και καλύτερης) δοκιμής\n",
        "#!!!!!!!!!!!!!    to 2.4 den to treksame mazi me to 2.3  , allios tha kaname apla ayto:\n",
        "#  best_params  = GS.best_params_"
      ],
      "metadata": {
        "id": "-S3S9GtemffG"
      },
      "execution_count": null,
      "outputs": []
    },
    {
      "cell_type": "code",
      "source": [
        "rf1 = RandomForestRegressor(n_estimators=best_params_['n_estimators'], max_depth=best_params_['max_depth'],\n",
        "                           min_samples_split=best_params_['min_samples_split'])\n",
        "\n",
        "#Fit (train) the model\n",
        "rf1.fit(X, Y)\n",
        "\n",
        "test_sample=df_test.head(100)[['vendor_id', 'passenger_count','pickup_longitude', 'pickup_latitude', 'dropoff_longitude', 'dropoff_latitude']]\n",
        "pred=rf1.predict(test_sample) "
      ],
      "metadata": {
        "id": "kbWTFoZ-rmrM"
      },
      "execution_count": null,
      "outputs": []
    },
    {
      "cell_type": "markdown",
      "source": [
        "**2.5**"
      ],
      "metadata": {
        "id": "Rehn-CEMrtGO"
      }
    },
    {
      "cell_type": "code",
      "source": [
        "#log metasxhmatismos\n",
        "df_target['log_trip_duration'] = np.log2(df_target['trip_duration'])\n",
        "target_sample=df_target.head(100)['log_trip_duration']\n",
        "\n",
        "# errors\n",
        "from sklearn.metrics import mean_absolute_error,mean_squared_error\n",
        "mae = mean_absolute_error(target_sample,pred)  \n",
        "mse = mean_squared_error(target_sample,pred)\n",
        "\n",
        "print('mae: ',mae)\n",
        "print('mse: ',mse)"
      ],
      "metadata": {
        "id": "yOToVLugr0xZ",
        "colab": {
          "base_uri": "https://localhost:8080/"
        },
        "outputId": "3a5c1906-0f91-4aa4-df24-ef6d7c27e751"
      },
      "execution_count": null,
      "outputs": [
        {
          "output_type": "stream",
          "name": "stdout",
          "text": [
            "mae:  0.6079097266280931\n",
            "mse:  0.7042423014048592\n"
          ]
        }
      ]
    },
    {
      "cell_type": "markdown",
      "source": [
        "**ΠΑΡΑΤΗΡΗΣΕΙΣ 2.3-2.5**\n",
        "\n",
        "\n"
      ],
      "metadata": {
        "id": "5hDJ1DtAY-wF"
      }
    },
    {
      "cell_type": "markdown",
      "source": [
        "Για να προχωρήσουμε στις παρατηρήσεις ,πρώτα, θα πειραματιστούμε περισσότερο με τις παραμετρους\n",
        "\n",
        "Η παρακάτω συνάρτηση επιστρεφει για δεδομένες τιμές των παραμέτρων τα  MAE και MSE"
      ],
      "metadata": {
        "id": "DBX_kV97kFh9"
      }
    },
    {
      "cell_type": "code",
      "source": [
        "def errors(maxd,mss,ne ,X , Y , test ,target):\n",
        "  errors=[]\n",
        "\n",
        "  if(maxd=='None'):\n",
        "    rf= RandomForestRegressor(n_estimators=ne,min_samples_split=mss)\n",
        "  else :\n",
        "    rf= RandomForestRegressor(n_estimators=ne, max_depth=maxd,min_samples_split=mss)  \n",
        "  rf.fit(X, Y)\n",
        "  pred=rf.predict(test)\n",
        "  errors.append(  mean_absolute_error(target,pred)  ) \n",
        "  errors.append(  mean_squared_error(target,pred)  )\n",
        "  return errors\n",
        "\n"
      ],
      "metadata": {
        "id": "DvY91i7ChIwG"
      },
      "execution_count": null,
      "outputs": []
    },
    {
      "cell_type": "code",
      "source": [
        "\n",
        "print(\"\\n let's compare the effeciency of the 3 parameter patterns from our GridSearchCV implementation \\n \\n\")\n",
        "print(\"maxd,min_samples, n estimators ,    MAE      ,      MSE  \\n\")\n",
        "\n",
        "print(\"(first try:)\")\n",
        "print(\" 9 ,     13     ,      50     \",errors(9,13,50,X,Y,test_sample,target_sample))\n",
        "print(\"(second try:)\")\n",
        "print(\" 5 ,     2     ,      10     \",errors(5,2,10,X,Y,test_sample,target_sample))\n",
        "print(\"(final try -THE PARAMETERS WE CHOSE:)\")\n",
        "print(\" 14 ,     2     ,      55     \",errors(14,2,55,X,Y,test_sample,target_sample))"
      ],
      "metadata": {
        "colab": {
          "base_uri": "https://localhost:8080/"
        },
        "id": "7gIvn1WBhj6E",
        "outputId": "c2503b42-bc56-4e05-f585-e2e7f10f4622"
      },
      "execution_count": null,
      "outputs": [
        {
          "output_type": "stream",
          "name": "stdout",
          "text": [
            "\n",
            " let's compare the effeciency of the 3 parameter patterns from our GridSearchCV implementation \n",
            " \n",
            "\n",
            "maxd,min_samples, n estimators ,    MAE      ,      MSE  \n",
            "\n",
            "(first try:)\n",
            " 9 ,     13     ,      50      [0.6447586206702798, 0.7327319099322491]\n",
            "(second try:)\n",
            " 5 ,     2     ,      10      [0.7363537761131334, 0.96476859594087]\n",
            "(final try -THE PARAMETERS WE CHOSE:)\n",
            " 14 ,     2     ,      55      [0.6160654672113053, 0.680786896893517]\n"
          ]
        }
      ]
    },
    {
      "cell_type": "markdown",
      "source": [
        "Πήραμε το αναμενόμενο αποτέλεσμα αφου στη τελευταία δοκιμή ήταν περισσότερα τα δεδομένα ( οι δοκιμές έχουν γίνει στη 2.3)"
      ],
      "metadata": {
        "id": "Sub0-np3lNJO"
      }
    },
    {
      "cell_type": "markdown",
      "source": [
        "Ας πειραματιστούμε χωρίς τον περιορισμό του τρεξίματος ενός GRID SEARCH CV"
      ],
      "metadata": {
        "id": "7g613fZPmAOY"
      }
    },
    {
      "cell_type": "code",
      "source": [
        "print(\"maxd,min_samples, n estimators ,    MAE      ,      MSE  \\n\")\n",
        "\n",
        "print(\"(default:)\")\n",
        "print(\" None ,     2     ,      100     \",errors('None',2,100,X,Y,test_sample,target_sample))\n",
        "print(\"(let's change only n-estimators:)\")\n",
        "print(\" None ,     2     ,      10     \",errors('None',2,10,X,Y,test_sample,target_sample))\n",
        "print(\" None ,     2     ,      50     \",errors('None',2,50,X,Y,test_sample,target_sample))\n",
        "print(\" None ,     2     ,      55     \",errors('None',2,55,X,Y,test_sample,target_sample))\n",
        "print(\" None ,     2     ,      75     \",errors('None',2,75,X,Y,test_sample,target_sample))\n",
        "print(\" None ,     2     ,      500     \",errors('None',2,500,X,Y,test_sample,target_sample))\n",
        "print(\" None ,     2     ,      1000     \",errors('None',2,1000,X,Y,test_sample,target_sample))\n"
      ],
      "metadata": {
        "colab": {
          "base_uri": "https://localhost:8080/"
        },
        "id": "keFRr3VImRzx",
        "outputId": "413eae92-6394-4eb9-ffaa-7bf32bd51edb"
      },
      "execution_count": null,
      "outputs": [
        {
          "output_type": "stream",
          "name": "stdout",
          "text": [
            "maxd,min_samples, n estimators ,    MAE      ,      MSE  \n",
            "\n",
            "(default:)\n",
            " None ,     2     ,      100      [0.5644364652230905, 0.6252247995937927]\n",
            "(let's change only n-estimators:)\n",
            " None ,     2     ,      10      [0.6244159260546165, 0.7773346413579502]\n",
            " None ,     2     ,      50      [0.55852512279148, 0.622251344278816]\n",
            " None ,     2     ,      55      [0.5738779851002042, 0.6296918266111708]\n",
            " None ,     2     ,      75      [0.5926156345692948, 0.6671785914412712]\n",
            " None ,     2     ,      500      [0.5721498792807529, 0.6423256729376148]\n",
            " None ,     2     ,      1000      [0.5770697490727741, 0.6483312763498739]\n"
          ]
        }
      ]
    },
    {
      "cell_type": "markdown",
      "source": [
        "**ΤΕΛΙΚΕΣ ΠΑΡΑΤΗΡΗΣΕΙΣ:** \n"
      ],
      "metadata": {
        "id": "QY3NZbi-pKFp"
      }
    },
    {
      "cell_type": "markdown",
      "source": [
        "Καταρχάς βλέπουμε οτι είναι αποδοτική η τιμή None στο max_depth(δυστυχώς δεν την είχαμε βαλει σαν επιλογή στη 2.3)\n",
        "\n",
        "\n",
        "**max_depth:**  None σε αυτη τη παραμετρο (σε συνδυασμο αν δεν κανουμε λαθος με min_samples_split=2) σημαινει ότι τα decision trees επαικτείνονται μέχρι να έχουμε pure leaves\n",
        "\n",
        "Σαφώς λοιπόν και είναι ετσι πολύ καλη η απόδοση \n",
        "\n",
        "\n",
        "\n",
        "**N-estimators:** Θα περιμέναμε ότι όσο περισσότερα είναι τα δέντρα τοσο αποδοτικό θα ήταν και το μοντέλο . Στις δοκιμές μας ωστόσο για κάποιο λόγο τιμές κοντά στο 50 ήταν συνήθως οι καλύτερες για αυτή τη παράμετρο"
      ],
      "metadata": {
        "id": "z9ooRd4hpQ3N"
      }
    }
  ],
  "metadata": {
    "colab": {
      "provenance": []
    },
    "kernelspec": {
      "display_name": "Python 3",
      "name": "python3"
    },
    "language_info": {
      "name": "python"
    }
  },
  "nbformat": 4,
  "nbformat_minor": 0
}